{
 "cells": [
  {
   "cell_type": "code",
   "execution_count": 11,
   "metadata": {
    "tags": [
     "remove-cell"
    ]
   },
   "outputs": [
    {
     "data": {
      "text/html": [
       "\n",
       "            <style>\n",
       "                .geemap-dark {\n",
       "                    --jp-widgets-color: white;\n",
       "                    --jp-widgets-label-color: white;\n",
       "                    --jp-ui-font-color1: white;\n",
       "                    --jp-layout-color2: #454545;\n",
       "                    background-color: #383838;\n",
       "                }\n",
       "\n",
       "                .geemap-dark .jupyter-button {\n",
       "                    --jp-layout-color3: #383838;\n",
       "                }\n",
       "\n",
       "                .geemap-colab {\n",
       "                    background-color: var(--colab-primary-surface-color, white);\n",
       "                }\n",
       "\n",
       "                .geemap-colab .jupyter-button {\n",
       "                    --jp-layout-color3: var(--colab-primary-surface-color, white);\n",
       "                }\n",
       "            </style>\n",
       "            "
      ],
      "text/plain": [
       "<IPython.core.display.HTML object>"
      ]
     },
     "metadata": {},
     "output_type": "display_data"
    }
   ],
   "source": [
    "import geopandas as gpd\n",
    "import pandas as pd\n",
    "\n",
    "from shapely.geometry import Point, Polygon\n",
    "from datetime import datetime\n",
    "\n",
    "\n",
    "from bokeh.models import Tabs, TabPanel\n",
    "from bokeh.core.validation.warnings import EMPTY_LAYOUT, MISSING_RENDERERS\n",
    "from bokeh.plotting import show, output_notebook\n",
    "import bokeh\n",
    "\n",
    "import acled_conflict_analysis\n",
    "from acled_conflict_analysis import analysis\n",
    "from acled_conflict_analysis import visuals\n",
    "\n",
    "import matplotlib.pyplot as plt\n",
    "import h3\n"
   ]
  },
  {
   "cell_type": "markdown",
   "metadata": {},
   "source": [
    "# Air Pollution near Roads"
   ]
  },
  {
   "cell_type": "code",
   "execution_count": 3,
   "metadata": {
    "tags": [
     "remove-cell"
    ]
   },
   "outputs": [
    {
     "data": {
      "text/html": [
       "\n",
       "            <style>\n",
       "                .geemap-dark {\n",
       "                    --jp-widgets-color: white;\n",
       "                    --jp-widgets-label-color: white;\n",
       "                    --jp-ui-font-color1: white;\n",
       "                    --jp-layout-color2: #454545;\n",
       "                    background-color: #383838;\n",
       "                }\n",
       "\n",
       "                .geemap-dark .jupyter-button {\n",
       "                    --jp-layout-color3: #383838;\n",
       "                }\n",
       "\n",
       "                .geemap-colab {\n",
       "                    background-color: var(--colab-primary-surface-color, white);\n",
       "                }\n",
       "\n",
       "                .geemap-colab .jupyter-button {\n",
       "                    --jp-layout-color3: var(--colab-primary-surface-color, white);\n",
       "                }\n",
       "            </style>\n",
       "            "
      ],
      "text/plain": [
       "<IPython.core.display.HTML object>"
      ]
     },
     "metadata": {},
     "output_type": "display_data"
    }
   ],
   "source": [
    "addis = gpd.read_file('../../data/boundaries/eth_admbnda_adm1_csa_bofedb_2021.shp')\n",
    "addis = addis[addis['ADM1_EN']=='Addis Ababa']"
   ]
  },
  {
   "cell_type": "code",
   "execution_count": 102,
   "metadata": {
    "tags": [
     "remove-cell"
    ]
   },
   "outputs": [
    {
     "data": {
      "text/html": [
       "\n",
       "            <style>\n",
       "                .geemap-dark {\n",
       "                    --jp-widgets-color: white;\n",
       "                    --jp-widgets-label-color: white;\n",
       "                    --jp-ui-font-color1: white;\n",
       "                    --jp-layout-color2: #454545;\n",
       "                    background-color: #383838;\n",
       "                }\n",
       "\n",
       "                .geemap-dark .jupyter-button {\n",
       "                    --jp-layout-color3: #383838;\n",
       "                }\n",
       "\n",
       "                .geemap-colab {\n",
       "                    background-color: var(--colab-primary-surface-color, white);\n",
       "                }\n",
       "\n",
       "                .geemap-colab .jupyter-button {\n",
       "                    --jp-layout-color3: var(--colab-primary-surface-color, white);\n",
       "                }\n",
       "            </style>\n",
       "            "
      ],
      "text/plain": [
       "<IPython.core.display.HTML object>"
      ]
     },
     "metadata": {},
     "output_type": "display_data"
    }
   ],
   "source": [
    "roads = gpd.read_file('../../data/roads/addis_primary_roads.shp')"
   ]
  },
  {
   "cell_type": "code",
   "execution_count": 100,
   "metadata": {
    "tags": [
     "remove-cell"
    ]
   },
   "outputs": [
    {
     "data": {
      "text/html": [
       "\n",
       "            <style>\n",
       "                .geemap-dark {\n",
       "                    --jp-widgets-color: white;\n",
       "                    --jp-widgets-label-color: white;\n",
       "                    --jp-ui-font-color1: white;\n",
       "                    --jp-layout-color2: #454545;\n",
       "                    background-color: #383838;\n",
       "                }\n",
       "\n",
       "                .geemap-dark .jupyter-button {\n",
       "                    --jp-layout-color3: #383838;\n",
       "                }\n",
       "\n",
       "                .geemap-colab {\n",
       "                    background-color: var(--colab-primary-surface-color, white);\n",
       "                }\n",
       "\n",
       "                .geemap-colab .jupyter-button {\n",
       "                    --jp-layout-color3: var(--colab-primary-surface-color, white);\n",
       "                }\n",
       "            </style>\n",
       "            "
      ],
      "text/plain": [
       "<IPython.core.display.HTML object>"
      ]
     },
     "metadata": {},
     "output_type": "display_data"
    }
   ],
   "source": [
    "boxes_gdf = gpd.read_file('../../data/air_pollution/addis_no2_polygons.shp')"
   ]
  },
  {
   "cell_type": "code",
   "execution_count": 139,
   "metadata": {
    "tags": [
     "remove-cell"
    ]
   },
   "outputs": [
    {
     "data": {
      "text/html": [
       "\n",
       "            <style>\n",
       "                .geemap-dark {\n",
       "                    --jp-widgets-color: white;\n",
       "                    --jp-widgets-label-color: white;\n",
       "                    --jp-ui-font-color1: white;\n",
       "                    --jp-layout-color2: #454545;\n",
       "                    background-color: #383838;\n",
       "                }\n",
       "\n",
       "                .geemap-dark .jupyter-button {\n",
       "                    --jp-layout-color3: #383838;\n",
       "                }\n",
       "\n",
       "                .geemap-colab {\n",
       "                    background-color: var(--colab-primary-surface-color, white);\n",
       "                }\n",
       "\n",
       "                .geemap-colab .jupyter-button {\n",
       "                    --jp-layout-color3: var(--colab-primary-surface-color, white);\n",
       "                }\n",
       "            </style>\n",
       "            "
      ],
      "text/plain": [
       "<IPython.core.display.HTML object>"
      ]
     },
     "metadata": {},
     "output_type": "display_data"
    }
   ],
   "source": [
    "air_pollution = pd.concat([pd.read_csv('../../data/air_pollution/no2_addis_20190101_20191231.csv'),\n",
    "                            pd.read_csv('../../data/air_pollution/no2_addis_20200101_20201231.csv'),\n",
    "                            pd.read_csv('../../data/air_pollution/no2_addis_20210101_20211231.csv'),\n",
    "                            pd.read_csv('../../data/air_pollution/no2_addis_20220101_20221231.csv'),\n",
    "                            pd.read_csv('../../data/air_pollution/no2_addis_20230101_20231231.csv'),\n",
    "                            pd.read_csv('../../data/air_pollution/no2_addis_20240101_20241015.csv')\n",
    "\n",
    "])"
   ]
  },
  {
   "cell_type": "code",
   "execution_count": 141,
   "metadata": {
    "tags": [
     "remove-cell"
    ]
   },
   "outputs": [
    {
     "data": {
      "text/html": [
       "\n",
       "            <style>\n",
       "                .geemap-dark {\n",
       "                    --jp-widgets-color: white;\n",
       "                    --jp-widgets-label-color: white;\n",
       "                    --jp-ui-font-color1: white;\n",
       "                    --jp-layout-color2: #454545;\n",
       "                    background-color: #383838;\n",
       "                }\n",
       "\n",
       "                .geemap-dark .jupyter-button {\n",
       "                    --jp-layout-color3: #383838;\n",
       "                }\n",
       "\n",
       "                .geemap-colab {\n",
       "                    background-color: var(--colab-primary-surface-color, white);\n",
       "                }\n",
       "\n",
       "                .geemap-colab .jupyter-button {\n",
       "                    --jp-layout-color3: var(--colab-primary-surface-color, white);\n",
       "                }\n",
       "            </style>\n",
       "            "
      ],
      "text/plain": [
       "<IPython.core.display.HTML object>"
      ]
     },
     "metadata": {},
     "output_type": "display_data"
    }
   ],
   "source": [
    "air_pollution['date'] = pd.to_datetime(air_pollution['date'])\n",
    "\n",
    "air_pollution.drop(columns = 'Unnamed: 0', inplace=True)\n",
    "air_pollution['aoi'] = 'Addis Ababa'\n",
    "air_pollution.rename(columns = {'date':'event_date'}, inplace=True)"
   ]
  },
  {
   "cell_type": "code",
   "execution_count": 16,
   "metadata": {
    "tags": [
     "remove-cell"
    ]
   },
   "outputs": [
    {
     "data": {
      "text/html": [
       "\n",
       "            <style>\n",
       "                .geemap-dark {\n",
       "                    --jp-widgets-color: white;\n",
       "                    --jp-widgets-label-color: white;\n",
       "                    --jp-ui-font-color1: white;\n",
       "                    --jp-layout-color2: #454545;\n",
       "                    background-color: #383838;\n",
       "                }\n",
       "\n",
       "                .geemap-dark .jupyter-button {\n",
       "                    --jp-layout-color3: #383838;\n",
       "                }\n",
       "\n",
       "                .geemap-colab {\n",
       "                    background-color: var(--colab-primary-surface-color, white);\n",
       "                }\n",
       "\n",
       "                .geemap-colab .jupyter-button {\n",
       "                    --jp-layout-color3: var(--colab-primary-surface-color, white);\n",
       "                }\n",
       "            </style>\n",
       "            "
      ],
      "text/plain": [
       "<IPython.core.display.HTML object>"
      ]
     },
     "metadata": {},
     "output_type": "display_data"
    }
   ],
   "source": [
    "lat_lon = air_pollution[['latitude', 'longitude']].drop_duplicates()\n",
    "lat_lon = analysis.convert_to_gdf(lat_lon)"
   ]
  },
  {
   "cell_type": "code",
   "execution_count": 14,
   "metadata": {
    "tags": [
     "remove-cell"
    ]
   },
   "outputs": [
    {
     "data": {
      "text/html": [
       "\n",
       "            <style>\n",
       "                .geemap-dark {\n",
       "                    --jp-widgets-color: white;\n",
       "                    --jp-widgets-label-color: white;\n",
       "                    --jp-ui-font-color1: white;\n",
       "                    --jp-layout-color2: #454545;\n",
       "                    background-color: #383838;\n",
       "                }\n",
       "\n",
       "                .geemap-dark .jupyter-button {\n",
       "                    --jp-layout-color3: #383838;\n",
       "                }\n",
       "\n",
       "                .geemap-colab {\n",
       "                    background-color: var(--colab-primary-surface-color, white);\n",
       "                }\n",
       "\n",
       "                .geemap-colab .jupyter-button {\n",
       "                    --jp-layout-color3: var(--colab-primary-surface-color, white);\n",
       "                }\n",
       "            </style>\n",
       "            "
      ],
      "text/plain": [
       "<IPython.core.display.HTML object>"
      ]
     },
     "metadata": {},
     "output_type": "display_data"
    }
   ],
   "source": [
    "def h3_to_polygon(h3_index):\n",
    "    \"\"\"Convert H3 index to a Shapely polygon.\"\"\"\n",
    "    boundary = h3.h3_to_geo_boundary(h3_index, geo_json=True)\n",
    "    return Polygon(boundary)\n",
    "\n",
    "def draw_h3_grid_around_points(gdf, lat_column='latitude', lon_column='longitude', resolution=5):\n",
    "    \"\"\"\n",
    "    Draw H3 grids around specific latitude and longitude in a GeoDataFrame.\n",
    "    \n",
    "    Args:\n",
    "    - gdf: GeoDataFrame containing latitude and longitude points.\n",
    "    - lat_column: Name of the latitude column in gdf.\n",
    "    - lon_column: Name of the longitude column in gdf.\n",
    "    - resolution: H3 resolution (the higher the number, the finer the grid).\n",
    "    \n",
    "    Returns:\n",
    "    - GeoDataFrame with H3 grids.\n",
    "    \"\"\"\n",
    "    h3_indexes = []\n",
    "\n",
    "    for _, row in gdf.iterrows():\n",
    "        lat = row[lat_column]\n",
    "        lon = row[lon_column]\n",
    "        \n",
    "        # Get the H3 index for this lat/lon at the specified resolution\n",
    "        h3_index = h3.geo_to_h3(lat, lon, resolution)\n",
    "        h3_indexes.append(h3_index)\n",
    "\n",
    "    # Create polygons for all H3 hexagons\n",
    "    polygons = [h3_to_polygon(index) for index in h3_indexes]\n",
    "\n",
    "    # Convert to a new GeoDataFrame\n",
    "    gdf_hex = gpd.GeoDataFrame(geometry=polygons, crs='EPSG:4326')\n",
    "    \n",
    "    return gdf_hex"
   ]
  },
  {
   "cell_type": "code",
   "execution_count": 39,
   "metadata": {
    "tags": [
     "remove-cell"
    ]
   },
   "outputs": [
    {
     "data": {
      "text/html": [
       "\n",
       "            <style>\n",
       "                .geemap-dark {\n",
       "                    --jp-widgets-color: white;\n",
       "                    --jp-widgets-label-color: white;\n",
       "                    --jp-ui-font-color1: white;\n",
       "                    --jp-layout-color2: #454545;\n",
       "                    background-color: #383838;\n",
       "                }\n",
       "\n",
       "                .geemap-dark .jupyter-button {\n",
       "                    --jp-layout-color3: #383838;\n",
       "                }\n",
       "\n",
       "                .geemap-colab {\n",
       "                    background-color: var(--colab-primary-surface-color, white);\n",
       "                }\n",
       "\n",
       "                .geemap-colab .jupyter-button {\n",
       "                    --jp-layout-color3: var(--colab-primary-surface-color, white);\n",
       "                }\n",
       "            </style>\n",
       "            "
      ],
      "text/plain": [
       "<IPython.core.display.HTML object>"
      ]
     },
     "metadata": {},
     "output_type": "display_data"
    }
   ],
   "source": [
    "def gdf_to_h3(gdf, resolution=6):\n",
    "    \"\"\"\n",
    "    Convert polygons in a GeoDataFrame to H3 hexagons at a given resolution.\n",
    "    \n",
    "    Args:\n",
    "    - gdf: Input GeoDataFrame with polygon geometries.\n",
    "    - resolution: H3 resolution to fill the polygons with hexagons.\n",
    "    \n",
    "    Returns:\n",
    "    - A new GeoDataFrame with H3 hexagon IDs and corresponding hexagon polygons.\n",
    "    \"\"\"\n",
    "    h3_indexes = []\n",
    "    polygons = []\n",
    "    \n",
    "    # Iterate through each polygon in the GeoDataFrame\n",
    "    for _, row in gdf.iterrows():\n",
    "        polygon = row.geometry\n",
    "        \n",
    "        # Convert Shapely polygon to GeoJSON-like dict format required by h3.polyfill\n",
    "        geo_json_polygon = {\n",
    "            'type': 'Polygon',\n",
    "            'coordinates': [list(polygon.exterior.coords)]\n",
    "        }\n",
    "        \n",
    "        # Convert the coordinates to [lat, lon] format\n",
    "        geo_json_polygon['coordinates'] = [[[lat, lon] for lon, lat in geo_json_polygon['coordinates'][0]]]\n",
    "        \n",
    "        # Get the H3 indexes that cover this polygon\n",
    "        hexagons = h3.polyfill(geo_json_polygon, resolution)\n",
    "        \n",
    "        # Convert H3 indexes to polygons and store\n",
    "        for h3_index in hexagons:\n",
    "            h3_indexes.append(h3_index)\n",
    "            boundary = h3.h3_to_geo_boundary(h3_index, geo_json=True)\n",
    "            polygons.append(Polygon(boundary))\n",
    "    \n",
    "    # Create a new GeoDataFrame with H3 hex IDs and their corresponding polygons\n",
    "    gdf_hex = gpd.GeoDataFrame({'h3_index': h3_indexes, 'geometry': polygons}, crs='EPSG:4326')\n",
    "    \n",
    "    return gdf_hex"
   ]
  },
  {
   "cell_type": "code",
   "execution_count": 105,
   "metadata": {
    "tags": [
     "remove-cell"
    ]
   },
   "outputs": [
    {
     "data": {
      "text/html": [
       "\n",
       "            <style>\n",
       "                .geemap-dark {\n",
       "                    --jp-widgets-color: white;\n",
       "                    --jp-widgets-label-color: white;\n",
       "                    --jp-ui-font-color1: white;\n",
       "                    --jp-layout-color2: #454545;\n",
       "                    background-color: #383838;\n",
       "                }\n",
       "\n",
       "                .geemap-dark .jupyter-button {\n",
       "                    --jp-layout-color3: #383838;\n",
       "                }\n",
       "\n",
       "                .geemap-colab {\n",
       "                    background-color: var(--colab-primary-surface-color, white);\n",
       "                }\n",
       "\n",
       "                .geemap-colab .jupyter-button {\n",
       "                    --jp-layout-color3: var(--colab-primary-surface-color, white);\n",
       "                }\n",
       "            </style>\n",
       "            "
      ],
      "text/plain": [
       "<IPython.core.display.HTML object>"
      ]
     },
     "metadata": {},
     "output_type": "display_data"
    }
   ],
   "source": [
    "import geopandas as gpd\n",
    "from shapely.ops import nearest_points\n",
    "\n",
    "def nearest_road_distance(roads_gdf, boxes_gdf):\n",
    "    \"\"\"\n",
    "    Calculate the distance from each box (polygon) to the nearest road (line) and \n",
    "    return a GeoDataFrame with distances.\n",
    "    \n",
    "    Args:\n",
    "    - roads_gdf: GeoDataFrame with road lines (geometry column as LineString).\n",
    "    - boxes_gdf: GeoDataFrame with box polygons (geometry column as Polygon).\n",
    "    \n",
    "    Returns:\n",
    "    - GeoDataFrame: A new GeoDataFrame containing each box and the distance to the nearest road.\n",
    "    \"\"\"\n",
    "    # Ensure both GeoDataFrames use the same CRS\n",
    "    if roads_gdf.crs != boxes_gdf.crs:\n",
    "        roads_gdf = roads_gdf.to_crs(boxes_gdf.crs)\n",
    "    \n",
    "    # Create a new column to store the distance to the nearest road\n",
    "    distances = []\n",
    "    \n",
    "    # Iterate over each polygon (box) in boxes_gdf\n",
    "    for box in boxes_gdf.geometry:\n",
    "        # Find the nearest road (line) in roads_gdf\n",
    "        nearest_geom = roads_gdf.geometry.unary_union  # Merge all road lines into one geometry\n",
    "        nearest_point_on_road = nearest_points(box, nearest_geom)[1]  # Get the point on the road nearest to the box\n",
    "        \n",
    "        # Calculate the distance from the box to the nearest road point\n",
    "        distance = box.distance(nearest_point_on_road)\n",
    "        distances.append(distance)\n",
    "    \n",
    "    # Create a new GeoDataFrame with the original boxes and the calculated distances\n",
    "    boxes_gdf['distance_to_nearest_road'] = distances\n",
    "    \n",
    "    return boxes_gdf\n"
   ]
  },
  {
   "cell_type": "code",
   "execution_count": 114,
   "metadata": {
    "tags": [
     "remove-cell"
    ]
   },
   "outputs": [
    {
     "data": {
      "text/html": [
       "\n",
       "            <style>\n",
       "                .geemap-dark {\n",
       "                    --jp-widgets-color: white;\n",
       "                    --jp-widgets-label-color: white;\n",
       "                    --jp-ui-font-color1: white;\n",
       "                    --jp-layout-color2: #454545;\n",
       "                    background-color: #383838;\n",
       "                }\n",
       "\n",
       "                .geemap-dark .jupyter-button {\n",
       "                    --jp-layout-color3: #383838;\n",
       "                }\n",
       "\n",
       "                .geemap-colab {\n",
       "                    background-color: var(--colab-primary-surface-color, white);\n",
       "                }\n",
       "\n",
       "                .geemap-colab .jupyter-button {\n",
       "                    --jp-layout-color3: var(--colab-primary-surface-color, white);\n",
       "                }\n",
       "            </style>\n",
       "            "
      ],
      "text/plain": [
       "<IPython.core.display.HTML object>"
      ]
     },
     "metadata": {},
     "output_type": "display_data"
    }
   ],
   "source": [
    "# # Calculate the distances from each box to the nearest road\n",
    "# roads_utm = roads.to_crs(epsg=32633)\n",
    "# boxes_utm = boxes_gdf.to_crs(epsg=32633)\n",
    "\n",
    "# result_gdf = nearest_road_distance(roads_utm, boxes_utm)\n",
    "\n",
    "result_gdf = result_gdf.to_crs(epsg=4326)"
   ]
  },
  {
   "cell_type": "code",
   "execution_count": 164,
   "metadata": {
    "tags": [
     "remove-cell"
    ]
   },
   "outputs": [
    {
     "data": {
      "text/html": [
       "\n",
       "            <style>\n",
       "                .geemap-dark {\n",
       "                    --jp-widgets-color: white;\n",
       "                    --jp-widgets-label-color: white;\n",
       "                    --jp-ui-font-color1: white;\n",
       "                    --jp-layout-color2: #454545;\n",
       "                    background-color: #383838;\n",
       "                }\n",
       "\n",
       "                .geemap-dark .jupyter-button {\n",
       "                    --jp-layout-color3: #383838;\n",
       "                }\n",
       "\n",
       "                .geemap-colab {\n",
       "                    background-color: var(--colab-primary-surface-color, white);\n",
       "                }\n",
       "\n",
       "                .geemap-colab .jupyter-button {\n",
       "                    --jp-layout-color3: var(--colab-primary-surface-color, white);\n",
       "                }\n",
       "            </style>\n",
       "            "
      ],
      "text/plain": [
       "<IPython.core.display.HTML object>"
      ]
     },
     "metadata": {},
     "output_type": "display_data"
    }
   ],
   "source": [
    "air_pollution_grouped = air_pollution.groupby(['latitude', 'longitude', 'aoi'])['NO2'].mean().reset_index()\n",
    "distance_to_roads = result_gdf.sjoin(analysis.convert_to_gdf(air_pollution_grouped))"
   ]
  },
  {
   "cell_type": "code",
   "execution_count": 170,
   "metadata": {
    "tags": [
     "remove-input"
    ]
   },
   "outputs": [
    {
     "data": {
      "text/html": [
       "\n",
       "            <style>\n",
       "                .geemap-dark {\n",
       "                    --jp-widgets-color: white;\n",
       "                    --jp-widgets-label-color: white;\n",
       "                    --jp-ui-font-color1: white;\n",
       "                    --jp-layout-color2: #454545;\n",
       "                    background-color: #383838;\n",
       "                }\n",
       "\n",
       "                .geemap-dark .jupyter-button {\n",
       "                    --jp-layout-color3: #383838;\n",
       "                }\n",
       "\n",
       "                .geemap-colab {\n",
       "                    background-color: var(--colab-primary-surface-color, white);\n",
       "                }\n",
       "\n",
       "                .geemap-colab .jupyter-button {\n",
       "                    --jp-layout-color3: var(--colab-primary-surface-color, white);\n",
       "                }\n",
       "            </style>\n",
       "            "
      ],
      "text/plain": [
       "<IPython.core.display.HTML object>"
      ]
     },
     "metadata": {},
     "output_type": "display_data"
    },
    {
     "data": {
      "text/html": [
       "    <style>\n",
       "        .bk-notebook-logo {\n",
       "            display: block;\n",
       "            width: 20px;\n",
       "            height: 20px;\n",
       "            background-image: url(data:image/png;base64,iVBORw0KGgoAAAANSUhEUgAAABQAAAAUCAYAAACNiR0NAAAABHNCSVQICAgIfAhkiAAAAAlwSFlzAAALEgAACxIB0t1+/AAAABx0RVh0U29mdHdhcmUAQWRvYmUgRmlyZXdvcmtzIENTNui8sowAAAOkSURBVDiNjZRtaJVlGMd/1/08zzln5zjP1LWcU9N0NkN8m2CYjpgQYQXqSs0I84OLIC0hkEKoPtiH3gmKoiJDU7QpLgoLjLIQCpEsNJ1vqUOdO7ppbuec5+V+rj4ctwzd8IIbbi6u+8f1539dt3A78eXC7QizUF7gyV1fD1Yqg4JWz84yffhm0qkFqBogB9rM8tZdtwVsPUhWhGcFJngGeWrPzHm5oaMmkfEg1usvLFyc8jLRqDOMru7AyC8saQr7GG7f5fvDeH7Ej8CM66nIF+8yngt6HWaKh7k49Soy9nXurCi1o3qUbS3zWfrYeQDTB/Qj6kX6Ybhw4B+bOYoLKCC9H3Nu/leUTZ1JdRWkkn2ldcCamzrcf47KKXdAJllSlxAOkRgyHsGC/zRday5Qld9DyoM4/q/rUoy/CXh3jzOu3bHUVZeU+DEn8FInkPBFlu3+nW3Nw0mk6vCDiWg8CeJaxEwuHS3+z5RgY+YBR6V1Z1nxSOfoaPa4LASWxxdNp+VWTk7+4vzaou8v8PN+xo+KY2xsw6une2frhw05CTYOmQvsEhjhWjn0bmXPjpE1+kplmmkP3suftwTubK9Vq22qKmrBhpY4jvd5afdRA3wGjFAgcnTK2s4hY0/GPNIb0nErGMCRxWOOX64Z8RAC4oCXdklmEvcL8o0BfkNK4lUg9HTl+oPlQxdNo3Mg4Nv175e/1LDGzZen30MEjRUtmXSfiTVu1kK8W4txyV6BMKlbgk3lMwYCiusNy9fVfvvwMxv8Ynl6vxoByANLTWplvuj/nF9m2+PDtt1eiHPBr1oIfhCChQMBw6Aw0UulqTKZdfVvfG7VcfIqLG9bcldL/+pdWTLxLUy8Qq38heUIjh4XlzZxzQm19lLFlr8vdQ97rjZVOLf8nclzckbcD4wxXMidpX30sFd37Fv/GtwwhzhxGVAprjbg0gCAEeIgwCZyTV2Z1REEW8O4py0wsjeloKoMr6iCY6dP92H6Vw/oTyICIthibxjm/DfN9lVz8IqtqKYLUXfoKVMVQVVJOElGjrnnUt9T9wbgp8AyYKaGlqingHZU/uG2NTZSVqwHQTWkx9hxjkpWDaCg6Ckj5qebgBVbT3V3NNXMSiWSDdGV3hrtzla7J+duwPOToIg42ChPQOQjspnSlp1V+Gjdged7+8UN5CRAV7a5EdFNwCjEaBR27b3W890TE7g24NAP/mMDXRWrGoFPQI9ls/MWO2dWFAar/xcOIImbbpA3zgAAAABJRU5ErkJggg==);\n",
       "        }\n",
       "    </style>\n",
       "    <div>\n",
       "        <a href=\"https://bokeh.org\" target=\"_blank\" class=\"bk-notebook-logo\"></a>\n",
       "        <span id=\"e0898563-f03f-412c-99c5-cadc7962471b\">Loading BokehJS ...</span>\n",
       "    </div>\n"
      ]
     },
     "metadata": {},
     "output_type": "display_data"
    },
    {
     "data": {
      "application/javascript": "'use strict';\n(function(root) {\n  function now() {\n    return new Date();\n  }\n\n  const force = true;\n\n  if (typeof root._bokeh_onload_callbacks === \"undefined\" || force === true) {\n    root._bokeh_onload_callbacks = [];\n    root._bokeh_is_loading = undefined;\n  }\n\nconst JS_MIME_TYPE = 'application/javascript';\n  const HTML_MIME_TYPE = 'text/html';\n  const EXEC_MIME_TYPE = 'application/vnd.bokehjs_exec.v0+json';\n  const CLASS_NAME = 'output_bokeh rendered_html';\n\n  /**\n   * Render data to the DOM node\n   */\n  function render(props, node) {\n    const script = document.createElement(\"script\");\n    node.appendChild(script);\n  }\n\n  /**\n   * Handle when an output is cleared or removed\n   */\n  function handleClearOutput(event, handle) {\n    function drop(id) {\n      const view = Bokeh.index.get_by_id(id)\n      if (view != null) {\n        view.model.document.clear()\n        Bokeh.index.delete(view)\n      }\n    }\n\n    const cell = handle.cell;\n\n    const id = cell.output_area._bokeh_element_id;\n    const server_id = cell.output_area._bokeh_server_id;\n\n    // Clean up Bokeh references\n    if (id != null) {\n      drop(id)\n    }\n\n    if (server_id !== undefined) {\n      // Clean up Bokeh references\n      const cmd_clean = \"from bokeh.io.state import curstate; print(curstate().uuid_to_server['\" + server_id + \"'].get_sessions()[0].document.roots[0]._id)\";\n      cell.notebook.kernel.execute(cmd_clean, {\n        iopub: {\n          output: function(msg) {\n            const id = msg.content.text.trim()\n            drop(id)\n          }\n        }\n      });\n      // Destroy server and session\n      const cmd_destroy = \"import bokeh.io.notebook as ion; ion.destroy_server('\" + server_id + \"')\";\n      cell.notebook.kernel.execute(cmd_destroy);\n    }\n  }\n\n  /**\n   * Handle when a new output is added\n   */\n  function handleAddOutput(event, handle) {\n    const output_area = handle.output_area;\n    const output = handle.output;\n\n    // limit handleAddOutput to display_data with EXEC_MIME_TYPE content only\n    if ((output.output_type != \"display_data\") || (!Object.prototype.hasOwnProperty.call(output.data, EXEC_MIME_TYPE))) {\n      return\n    }\n\n    const toinsert = output_area.element.find(\".\" + CLASS_NAME.split(' ')[0]);\n\n    if (output.metadata[EXEC_MIME_TYPE][\"id\"] !== undefined) {\n      toinsert[toinsert.length - 1].firstChild.textContent = output.data[JS_MIME_TYPE];\n      // store reference to embed id on output_area\n      output_area._bokeh_element_id = output.metadata[EXEC_MIME_TYPE][\"id\"];\n    }\n    if (output.metadata[EXEC_MIME_TYPE][\"server_id\"] !== undefined) {\n      const bk_div = document.createElement(\"div\");\n      bk_div.innerHTML = output.data[HTML_MIME_TYPE];\n      const script_attrs = bk_div.children[0].attributes;\n      for (let i = 0; i < script_attrs.length; i++) {\n        toinsert[toinsert.length - 1].firstChild.setAttribute(script_attrs[i].name, script_attrs[i].value);\n        toinsert[toinsert.length - 1].firstChild.textContent = bk_div.children[0].textContent\n      }\n      // store reference to server id on output_area\n      output_area._bokeh_server_id = output.metadata[EXEC_MIME_TYPE][\"server_id\"];\n    }\n  }\n\n  function register_renderer(events, OutputArea) {\n\n    function append_mime(data, metadata, element) {\n      // create a DOM node to render to\n      const toinsert = this.create_output_subarea(\n        metadata,\n        CLASS_NAME,\n        EXEC_MIME_TYPE\n      );\n      this.keyboard_manager.register_events(toinsert);\n      // Render to node\n      const props = {data: data, metadata: metadata[EXEC_MIME_TYPE]};\n      render(props, toinsert[toinsert.length - 1]);\n      element.append(toinsert);\n      return toinsert\n    }\n\n    /* Handle when an output is cleared or removed */\n    events.on('clear_output.CodeCell', handleClearOutput);\n    events.on('delete.Cell', handleClearOutput);\n\n    /* Handle when a new output is added */\n    events.on('output_added.OutputArea', handleAddOutput);\n\n    /**\n     * Register the mime type and append_mime function with output_area\n     */\n    OutputArea.prototype.register_mime_type(EXEC_MIME_TYPE, append_mime, {\n      /* Is output safe? */\n      safe: true,\n      /* Index of renderer in `output_area.display_order` */\n      index: 0\n    });\n  }\n\n  // register the mime type if in Jupyter Notebook environment and previously unregistered\n  if (root.Jupyter !== undefined) {\n    const events = require('base/js/events');\n    const OutputArea = require('notebook/js/outputarea').OutputArea;\n\n    if (OutputArea.prototype.mime_types().indexOf(EXEC_MIME_TYPE) == -1) {\n      register_renderer(events, OutputArea);\n    }\n  }\n  if (typeof (root._bokeh_timeout) === \"undefined\" || force === true) {\n    root._bokeh_timeout = Date.now() + 5000;\n    root._bokeh_failed_load = false;\n  }\n\n  const NB_LOAD_WARNING = {'data': {'text/html':\n     \"<div style='background-color: #fdd'>\\n\"+\n     \"<p>\\n\"+\n     \"BokehJS does not appear to have successfully loaded. If loading BokehJS from CDN, this \\n\"+\n     \"may be due to a slow or bad network connection. Possible fixes:\\n\"+\n     \"</p>\\n\"+\n     \"<ul>\\n\"+\n     \"<li>re-rerun `output_notebook()` to attempt to load from CDN again, or</li>\\n\"+\n     \"<li>use INLINE resources instead, as so:</li>\\n\"+\n     \"</ul>\\n\"+\n     \"<code>\\n\"+\n     \"from bokeh.resources import INLINE\\n\"+\n     \"output_notebook(resources=INLINE)\\n\"+\n     \"</code>\\n\"+\n     \"</div>\"}};\n\n  function display_loaded(error = null) {\n    const el = document.getElementById(\"e0898563-f03f-412c-99c5-cadc7962471b\");\n    if (el != null) {\n      const html = (() => {\n        if (typeof root.Bokeh === \"undefined\") {\n          if (error == null) {\n            return \"BokehJS is loading ...\";\n          } else {\n            return \"BokehJS failed to load.\";\n          }\n        } else {\n          const prefix = `BokehJS ${root.Bokeh.version}`;\n          if (error == null) {\n            return `${prefix} successfully loaded.`;\n          } else {\n            return `${prefix} <b>encountered errors</b> while loading and may not function as expected.`;\n          }\n        }\n      })();\n      el.innerHTML = html;\n\n      if (error != null) {\n        const wrapper = document.createElement(\"div\");\n        wrapper.style.overflow = \"auto\";\n        wrapper.style.height = \"5em\";\n        wrapper.style.resize = \"vertical\";\n        const content = document.createElement(\"div\");\n        content.style.fontFamily = \"monospace\";\n        content.style.whiteSpace = \"pre-wrap\";\n        content.style.backgroundColor = \"rgb(255, 221, 221)\";\n        content.textContent = error.stack ?? error.toString();\n        wrapper.append(content);\n        el.append(wrapper);\n      }\n    } else if (Date.now() < root._bokeh_timeout) {\n      setTimeout(() => display_loaded(error), 100);\n    }\n  }\n\n  function run_callbacks() {\n    try {\n      root._bokeh_onload_callbacks.forEach(function(callback) {\n        if (callback != null)\n          callback();\n      });\n    } finally {\n      delete root._bokeh_onload_callbacks\n    }\n    console.debug(\"Bokeh: all callbacks have finished\");\n  }\n\n  function load_libs(css_urls, js_urls, callback) {\n    if (css_urls == null) css_urls = [];\n    if (js_urls == null) js_urls = [];\n\n    root._bokeh_onload_callbacks.push(callback);\n    if (root._bokeh_is_loading > 0) {\n      console.debug(\"Bokeh: BokehJS is being loaded, scheduling callback at\", now());\n      return null;\n    }\n    if (js_urls == null || js_urls.length === 0) {\n      run_callbacks();\n      return null;\n    }\n    console.debug(\"Bokeh: BokehJS not loaded, scheduling load and callback at\", now());\n    root._bokeh_is_loading = css_urls.length + js_urls.length;\n\n    function on_load() {\n      root._bokeh_is_loading--;\n      if (root._bokeh_is_loading === 0) {\n        console.debug(\"Bokeh: all BokehJS libraries/stylesheets loaded\");\n        run_callbacks()\n      }\n    }\n\n    function on_error(url) {\n      console.error(\"failed to load \" + url);\n    }\n\n    for (let i = 0; i < css_urls.length; i++) {\n      const url = css_urls[i];\n      const element = document.createElement(\"link\");\n      element.onload = on_load;\n      element.onerror = on_error.bind(null, url);\n      element.rel = \"stylesheet\";\n      element.type = \"text/css\";\n      element.href = url;\n      console.debug(\"Bokeh: injecting link tag for BokehJS stylesheet: \", url);\n      document.body.appendChild(element);\n    }\n\n    for (let i = 0; i < js_urls.length; i++) {\n      const url = js_urls[i];\n      const element = document.createElement('script');\n      element.onload = on_load;\n      element.onerror = on_error.bind(null, url);\n      element.async = false;\n      element.src = url;\n      console.debug(\"Bokeh: injecting script tag for BokehJS library: \", url);\n      document.head.appendChild(element);\n    }\n  };\n\n  function inject_raw_css(css) {\n    const element = document.createElement(\"style\");\n    element.appendChild(document.createTextNode(css));\n    document.body.appendChild(element);\n  }\n\n  const js_urls = [\"https://cdn.bokeh.org/bokeh/release/bokeh-3.4.1.min.js\", \"https://cdn.bokeh.org/bokeh/release/bokeh-gl-3.4.1.min.js\", \"https://cdn.bokeh.org/bokeh/release/bokeh-widgets-3.4.1.min.js\", \"https://cdn.bokeh.org/bokeh/release/bokeh-tables-3.4.1.min.js\", \"https://cdn.bokeh.org/bokeh/release/bokeh-mathjax-3.4.1.min.js\"];\n  const css_urls = [];\n\n  const inline_js = [    function(Bokeh) {\n      Bokeh.set_log_level(\"info\");\n    },\nfunction(Bokeh) {\n    }\n  ];\n\n  function run_inline_js() {\n    if (root.Bokeh !== undefined || force === true) {\n      try {\n            for (let i = 0; i < inline_js.length; i++) {\n      inline_js[i].call(root, root.Bokeh);\n    }\n\n      } catch (error) {display_loaded(error);throw error;\n      }if (force === true) {\n        display_loaded();\n      }} else if (Date.now() < root._bokeh_timeout) {\n      setTimeout(run_inline_js, 100);\n    } else if (!root._bokeh_failed_load) {\n      console.log(\"Bokeh: BokehJS failed to load within specified timeout.\");\n      root._bokeh_failed_load = true;\n    } else if (force !== true) {\n      const cell = $(document.getElementById(\"e0898563-f03f-412c-99c5-cadc7962471b\")).parents('.cell').data().cell;\n      cell.output_area.append_execute_result(NB_LOAD_WARNING)\n    }\n  }\n\n  if (root._bokeh_is_loading === 0) {\n    console.debug(\"Bokeh: BokehJS loaded, going straight to plotting\");\n    run_inline_js();\n  } else {\n    load_libs(css_urls, js_urls, function() {\n      console.debug(\"Bokeh: BokehJS plotting callback run at\", now());\n      run_inline_js();\n    });\n  }\n}(window));",
      "application/vnd.bokehjs_load.v0+json": ""
     },
     "metadata": {},
     "output_type": "display_data"
    },
    {
     "data": {
      "text/html": [
       "\n",
       "  <div id=\"c5bcb0a7-f2f1-40ad-89eb-a7ebc7a6a392\" data-root-id=\"p1510\" style=\"display: contents;\"></div>\n"
      ]
     },
     "metadata": {},
     "output_type": "display_data"
    },
    {
     "data": {
      "application/javascript": "(function(root) {\n  function embed_document(root) {\n  const docs_json = {\"15ea0d89-09c6-438d-a997-41822697fab8\":{\"version\":\"3.4.1\",\"title\":\"Bokeh Application\",\"roots\":[{\"type\":\"object\",\"name\":\"Figure\",\"id\":\"p1510\",\"attributes\":{\"x_range\":{\"type\":\"object\",\"name\":\"DataRange1d\",\"id\":\"p1511\"},\"y_range\":{\"type\":\"object\",\"name\":\"DataRange1d\",\"id\":\"p1512\"},\"x_scale\":{\"type\":\"object\",\"name\":\"LinearScale\",\"id\":\"p1520\"},\"y_scale\":{\"type\":\"object\",\"name\":\"LinearScale\",\"id\":\"p1521\"},\"title\":{\"type\":\"object\",\"name\":\"Title\",\"id\":\"p1513\",\"attributes\":{\"text\":\"Distance to nearest primary road vs Average Air Pollution in a location\"}},\"renderers\":[{\"type\":\"object\",\"name\":\"GlyphRenderer\",\"id\":\"p1543\",\"attributes\":{\"data_source\":{\"type\":\"object\",\"name\":\"ColumnDataSource\",\"id\":\"p1507\",\"attributes\":{\"selected\":{\"type\":\"object\",\"name\":\"Selection\",\"id\":\"p1508\",\"attributes\":{\"indices\":[],\"line_indices\":[]}},\"selection_policy\":{\"type\":\"object\",\"name\":\"UnionRenderers\",\"id\":\"p1509\"},\"data\":{\"type\":\"map\",\"entries\":[[\"index\",{\"type\":\"ndarray\",\"array\":{\"type\":\"bytes\",\"data\":\"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\"},\"shape\":[546],\"dtype\":\"int32\",\"order\":\"little\"}],[\"distance_to_nearest_road\",{\"type\":\"ndarray\",\"array\":{\"type\":\"bytes\",\"data\":\"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\"},\"shape\":[546],\"dtype\":\"float64\",\"order\":\"little\"}],[\"NO2\",{\"type\":\"ndarray\",\"array\":{\"type\":\"bytes\",\"data\":\"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\"},\"shape\":[546],\"dtype\":\"float64\",\"order\":\"little\"}]]}}},\"view\":{\"type\":\"object\",\"name\":\"CDSView\",\"id\":\"p1544\",\"attributes\":{\"filter\":{\"type\":\"object\",\"name\":\"AllIndices\",\"id\":\"p1545\"}}},\"glyph\":{\"type\":\"object\",\"name\":\"Scatter\",\"id\":\"p1540\",\"attributes\":{\"x\":{\"type\":\"field\",\"field\":\"distance_to_nearest_road\"},\"y\":{\"type\":\"field\",\"field\":\"NO2\"},\"size\":{\"type\":\"value\",\"value\":2},\"line_color\":{\"type\":\"value\",\"value\":\"blue\"},\"fill_color\":{\"type\":\"value\",\"value\":\"blue\"},\"fill_alpha\":{\"type\":\"value\",\"value\":0.6},\"hatch_color\":{\"type\":\"value\",\"value\":\"blue\"}}},\"nonselection_glyph\":{\"type\":\"object\",\"name\":\"Scatter\",\"id\":\"p1541\",\"attributes\":{\"x\":{\"type\":\"field\",\"field\":\"distance_to_nearest_road\"},\"y\":{\"type\":\"field\",\"field\":\"NO2\"},\"size\":{\"type\":\"value\",\"value\":2},\"line_color\":{\"type\":\"value\",\"value\":\"blue\"},\"line_alpha\":{\"type\":\"value\",\"value\":0.1},\"fill_color\":{\"type\":\"value\",\"value\":\"blue\"},\"fill_alpha\":{\"type\":\"value\",\"value\":0.1},\"hatch_color\":{\"type\":\"value\",\"value\":\"blue\"},\"hatch_alpha\":{\"type\":\"value\",\"value\":0.1}}},\"muted_glyph\":{\"type\":\"object\",\"name\":\"Scatter\",\"id\":\"p1542\",\"attributes\":{\"x\":{\"type\":\"field\",\"field\":\"distance_to_nearest_road\"},\"y\":{\"type\":\"field\",\"field\":\"NO2\"},\"size\":{\"type\":\"value\",\"value\":2},\"line_color\":{\"type\":\"value\",\"value\":\"blue\"},\"line_alpha\":{\"type\":\"value\",\"value\":0.2},\"fill_color\":{\"type\":\"value\",\"value\":\"blue\"},\"fill_alpha\":{\"type\":\"value\",\"value\":0.2},\"hatch_color\":{\"type\":\"value\",\"value\":\"blue\"},\"hatch_alpha\":{\"type\":\"value\",\"value\":0.2}}}}},{\"type\":\"object\",\"name\":\"GlyphRenderer\",\"id\":\"p1552\",\"attributes\":{\"data_source\":{\"type\":\"object\",\"name\":\"ColumnDataSource\",\"id\":\"p1546\",\"attributes\":{\"selected\":{\"type\":\"object\",\"name\":\"Selection\",\"id\":\"p1547\",\"attributes\":{\"indices\":[],\"line_indices\":[]}},\"selection_policy\":{\"type\":\"object\",\"name\":\"UnionRenderers\",\"id\":\"p1548\"},\"data\":{\"type\":\"map\",\"entries\":[[\"x\",{\"type\":\"ndarray\",\"array\":{\"type\":\"bytes\",\"data\":\"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\"},\"shape\":[546],\"dtype\":\"float64\",\"order\":\"little\"}],[\"y\",{\"type\":\"ndarray\",\"array\":{\"type\":\"bytes\",\"data\":\"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\"},\"shape\":[546],\"dtype\":\"float64\",\"order\":\"little\"}]]}}},\"view\":{\"type\":\"object\",\"name\":\"CDSView\",\"id\":\"p1553\",\"attributes\":{\"filter\":{\"type\":\"object\",\"name\":\"AllIndices\",\"id\":\"p1554\"}}},\"glyph\":{\"type\":\"object\",\"name\":\"Line\",\"id\":\"p1549\",\"attributes\":{\"x\":{\"type\":\"field\",\"field\":\"x\"},\"y\":{\"type\":\"field\",\"field\":\"y\"},\"line_width\":2}},\"nonselection_glyph\":{\"type\":\"object\",\"name\":\"Line\",\"id\":\"p1550\",\"attributes\":{\"x\":{\"type\":\"field\",\"field\":\"x\"},\"y\":{\"type\":\"field\",\"field\":\"y\"},\"line_alpha\":0.1,\"line_width\":2}},\"muted_glyph\":{\"type\":\"object\",\"name\":\"Line\",\"id\":\"p1551\",\"attributes\":{\"x\":{\"type\":\"field\",\"field\":\"x\"},\"y\":{\"type\":\"field\",\"field\":\"y\"},\"line_alpha\":0.2,\"line_width\":2}}}}],\"toolbar\":{\"type\":\"object\",\"name\":\"Toolbar\",\"id\":\"p1519\",\"attributes\":{\"tools\":[{\"type\":\"object\",\"name\":\"PanTool\",\"id\":\"p1532\"},{\"type\":\"object\",\"name\":\"ResetTool\",\"id\":\"p1533\"},{\"type\":\"object\",\"name\":\"ZoomInTool\",\"id\":\"p1534\",\"attributes\":{\"renderers\":\"auto\"}},{\"type\":\"object\",\"name\":\"ZoomOutTool\",\"id\":\"p1535\",\"attributes\":{\"renderers\":\"auto\"}},{\"type\":\"object\",\"name\":\"SaveTool\",\"id\":\"p1536\"}]}},\"left\":[{\"type\":\"object\",\"name\":\"LinearAxis\",\"id\":\"p1527\",\"attributes\":{\"ticker\":{\"type\":\"object\",\"name\":\"BasicTicker\",\"id\":\"p1528\",\"attributes\":{\"mantissas\":[1,2,5]}},\"formatter\":{\"type\":\"object\",\"name\":\"BasicTickFormatter\",\"id\":\"p1529\"},\"axis_label\":\"NO2\",\"major_label_policy\":{\"type\":\"object\",\"name\":\"AllLabels\",\"id\":\"p1530\"}}}],\"below\":[{\"type\":\"object\",\"name\":\"LinearAxis\",\"id\":\"p1522\",\"attributes\":{\"ticker\":{\"type\":\"object\",\"name\":\"BasicTicker\",\"id\":\"p1523\",\"attributes\":{\"mantissas\":[1,2,5]}},\"formatter\":{\"type\":\"object\",\"name\":\"BasicTickFormatter\",\"id\":\"p1524\"},\"axis_label\":\"Distance to nearest primary road (in m)\",\"major_label_policy\":{\"type\":\"object\",\"name\":\"AllLabels\",\"id\":\"p1525\"}}}],\"center\":[{\"type\":\"object\",\"name\":\"Grid\",\"id\":\"p1526\",\"attributes\":{\"axis\":{\"id\":\"p1522\"}}},{\"type\":\"object\",\"name\":\"Grid\",\"id\":\"p1531\",\"attributes\":{\"dimension\":1,\"axis\":{\"id\":\"p1527\"}}}]}}]}};\n  const render_items = [{\"docid\":\"15ea0d89-09c6-438d-a997-41822697fab8\",\"roots\":{\"p1510\":\"c5bcb0a7-f2f1-40ad-89eb-a7ebc7a6a392\"},\"root_ids\":[\"p1510\"]}];\n  void root.Bokeh.embed.embed_items_notebook(docs_json, render_items);\n  }\n  if (root.Bokeh !== undefined) {\n    embed_document(root);\n  } else {\n    let attempts = 0;\n    const timer = setInterval(function(root) {\n      if (root.Bokeh !== undefined) {\n        clearInterval(timer);\n        embed_document(root);\n      } else {\n        attempts++;\n        if (attempts > 100) {\n          clearInterval(timer);\n          console.log(\"Bokeh: ERROR: Unable to run BokehJS code because BokehJS library is missing\");\n        }\n      }\n    }, 10, root)\n  }\n})(window);",
      "application/vnd.bokehjs_exec.v0+json": ""
     },
     "metadata": {
      "application/vnd.bokehjs_exec.v0+json": {
       "id": "p1510"
      }
     },
     "output_type": "display_data"
    }
   ],
   "source": [
    "from bokeh.models import ColumnDataSource\n",
    "from bokeh.plotting import figure, show\n",
    "import numpy as np\n",
    "output_notebook()\n",
    "\n",
    "source = ColumnDataSource(distance_to_roads[['distance_to_nearest_road', 'NO2']])\n",
    "\n",
    "x = distance_to_roads['distance_to_nearest_road']\n",
    "y = distance_to_roads['NO2']\n",
    "\n",
    "slope, intercept = np.polyfit(x, y, 1)\n",
    "\n",
    "trend_line = slope * x + intercept\n",
    "\n",
    "p = figure(title=\"Distance to nearest primary road vs Average Air Pollution in a location\", \n",
    "           x_axis_label=\"Distance to nearest primary road (in m)\", y_axis_label=\"NO2\", \n",
    "           tools=\"pan,reset,zoom_in,zoom_out,save\")\n",
    "\n",
    "# Add a scatter plot to the figure\n",
    "p.scatter('distance_to_nearest_road', 'NO2', size=2, color='blue', source=source, fill_alpha=0.6)\n",
    "\n",
    "p.line(x, trend_line, color='black', line_width=2)\n",
    "\n",
    "# Display the plot\n",
    "show(p)"
   ]
  },
  {
   "cell_type": "markdown",
   "metadata": {},
   "source": [
    "**The correlation coeffecient between the two variables in -0.55. This shows a weak negative correlation.**"
   ]
  },
  {
   "cell_type": "code",
   "execution_count": 157,
   "metadata": {
    "tags": [
     "remove-cell"
    ]
   },
   "outputs": [
    {
     "data": {
      "text/html": [
       "\n",
       "            <style>\n",
       "                .geemap-dark {\n",
       "                    --jp-widgets-color: white;\n",
       "                    --jp-widgets-label-color: white;\n",
       "                    --jp-ui-font-color1: white;\n",
       "                    --jp-layout-color2: #454545;\n",
       "                    background-color: #383838;\n",
       "                }\n",
       "\n",
       "                .geemap-dark .jupyter-button {\n",
       "                    --jp-layout-color3: #383838;\n",
       "                }\n",
       "\n",
       "                .geemap-colab {\n",
       "                    background-color: var(--colab-primary-surface-color, white);\n",
       "                }\n",
       "\n",
       "                .geemap-colab .jupyter-button {\n",
       "                    --jp-layout-color3: var(--colab-primary-surface-color, white);\n",
       "                }\n",
       "            </style>\n",
       "            "
      ],
      "text/plain": [
       "<IPython.core.display.HTML object>"
      ]
     },
     "metadata": {},
     "output_type": "display_data"
    }
   ],
   "source": [
    "air_pollution['weekday'] = air_pollution['event_date'].dt.weekday\n",
    "\n",
    "def get_weekday_group(weekday):\n",
    "    if weekday<5:\n",
    "        return 'weekday'\n",
    "    else:\n",
    "        return 'weekend'\n",
    "    \n",
    "air_pollution['week_group'] = air_pollution['weekday'].apply(lambda x: get_weekday_group(x))"
   ]
  },
  {
   "cell_type": "code",
   "execution_count": 160,
   "metadata": {
    "tags": [
     "remove-cell"
    ]
   },
   "outputs": [
    {
     "data": {
      "text/html": [
       "\n",
       "            <style>\n",
       "                .geemap-dark {\n",
       "                    --jp-widgets-color: white;\n",
       "                    --jp-widgets-label-color: white;\n",
       "                    --jp-ui-font-color1: white;\n",
       "                    --jp-layout-color2: #454545;\n",
       "                    background-color: #383838;\n",
       "                }\n",
       "\n",
       "                .geemap-dark .jupyter-button {\n",
       "                    --jp-layout-color3: #383838;\n",
       "                }\n",
       "\n",
       "                .geemap-colab {\n",
       "                    background-color: var(--colab-primary-surface-color, white);\n",
       "                }\n",
       "\n",
       "                .geemap-colab .jupyter-button {\n",
       "                    --jp-layout-color3: var(--colab-primary-surface-color, white);\n",
       "                }\n",
       "            </style>\n",
       "            "
      ],
      "text/plain": [
       "<IPython.core.display.HTML object>"
      ]
     },
     "metadata": {},
     "output_type": "display_data"
    }
   ],
   "source": [
    "air_pollution_grouped = air_pollution.groupby(['week_group', 'latitude', 'longitude'])['NO2'].mean().reset_index()\n",
    "distance_to_roads = result_gdf.sjoin(analysis.convert_to_gdf(air_pollution_grouped))\n",
    "\n",
    "weekdays = distance_to_roads[distance_to_roads['week_group']=='weekday']\n",
    "weekends = distance_to_roads[distance_to_roads['week_group']=='weekend']"
   ]
  },
  {
   "cell_type": "code",
   "execution_count": 162,
   "metadata": {
    "tags": [
     "remove-input"
    ]
   },
   "outputs": [
    {
     "data": {
      "text/html": [
       "\n",
       "            <style>\n",
       "                .geemap-dark {\n",
       "                    --jp-widgets-color: white;\n",
       "                    --jp-widgets-label-color: white;\n",
       "                    --jp-ui-font-color1: white;\n",
       "                    --jp-layout-color2: #454545;\n",
       "                    background-color: #383838;\n",
       "                }\n",
       "\n",
       "                .geemap-dark .jupyter-button {\n",
       "                    --jp-layout-color3: #383838;\n",
       "                }\n",
       "\n",
       "                .geemap-colab {\n",
       "                    background-color: var(--colab-primary-surface-color, white);\n",
       "                }\n",
       "\n",
       "                .geemap-colab .jupyter-button {\n",
       "                    --jp-layout-color3: var(--colab-primary-surface-color, white);\n",
       "                }\n",
       "            </style>\n",
       "            "
      ],
      "text/plain": [
       "<IPython.core.display.HTML object>"
      ]
     },
     "metadata": {},
     "output_type": "display_data"
    },
    {
     "data": {
      "text/html": [
       "    <style>\n",
       "        .bk-notebook-logo {\n",
       "            display: block;\n",
       "            width: 20px;\n",
       "            height: 20px;\n",
       "            background-image: url(data:image/png;base64,iVBORw0KGgoAAAANSUhEUgAAABQAAAAUCAYAAACNiR0NAAAABHNCSVQICAgIfAhkiAAAAAlwSFlzAAALEgAACxIB0t1+/AAAABx0RVh0U29mdHdhcmUAQWRvYmUgRmlyZXdvcmtzIENTNui8sowAAAOkSURBVDiNjZRtaJVlGMd/1/08zzln5zjP1LWcU9N0NkN8m2CYjpgQYQXqSs0I84OLIC0hkEKoPtiH3gmKoiJDU7QpLgoLjLIQCpEsNJ1vqUOdO7ppbuec5+V+rj4ctwzd8IIbbi6u+8f1539dt3A78eXC7QizUF7gyV1fD1Yqg4JWz84yffhm0qkFqBogB9rM8tZdtwVsPUhWhGcFJngGeWrPzHm5oaMmkfEg1usvLFyc8jLRqDOMru7AyC8saQr7GG7f5fvDeH7Ej8CM66nIF+8yngt6HWaKh7k49Soy9nXurCi1o3qUbS3zWfrYeQDTB/Qj6kX6Ybhw4B+bOYoLKCC9H3Nu/leUTZ1JdRWkkn2ldcCamzrcf47KKXdAJllSlxAOkRgyHsGC/zRday5Qld9DyoM4/q/rUoy/CXh3jzOu3bHUVZeU+DEn8FInkPBFlu3+nW3Nw0mk6vCDiWg8CeJaxEwuHS3+z5RgY+YBR6V1Z1nxSOfoaPa4LASWxxdNp+VWTk7+4vzaou8v8PN+xo+KY2xsw6une2frhw05CTYOmQvsEhjhWjn0bmXPjpE1+kplmmkP3suftwTubK9Vq22qKmrBhpY4jvd5afdRA3wGjFAgcnTK2s4hY0/GPNIb0nErGMCRxWOOX64Z8RAC4oCXdklmEvcL8o0BfkNK4lUg9HTl+oPlQxdNo3Mg4Nv175e/1LDGzZen30MEjRUtmXSfiTVu1kK8W4txyV6BMKlbgk3lMwYCiusNy9fVfvvwMxv8Ynl6vxoByANLTWplvuj/nF9m2+PDtt1eiHPBr1oIfhCChQMBw6Aw0UulqTKZdfVvfG7VcfIqLG9bcldL/+pdWTLxLUy8Qq38heUIjh4XlzZxzQm19lLFlr8vdQ97rjZVOLf8nclzckbcD4wxXMidpX30sFd37Fv/GtwwhzhxGVAprjbg0gCAEeIgwCZyTV2Z1REEW8O4py0wsjeloKoMr6iCY6dP92H6Vw/oTyICIthibxjm/DfN9lVz8IqtqKYLUXfoKVMVQVVJOElGjrnnUt9T9wbgp8AyYKaGlqingHZU/uG2NTZSVqwHQTWkx9hxjkpWDaCg6Ckj5qebgBVbT3V3NNXMSiWSDdGV3hrtzla7J+duwPOToIg42ChPQOQjspnSlp1V+Gjdged7+8UN5CRAV7a5EdFNwCjEaBR27b3W890TE7g24NAP/mMDXRWrGoFPQI9ls/MWO2dWFAar/xcOIImbbpA3zgAAAABJRU5ErkJggg==);\n",
       "        }\n",
       "    </style>\n",
       "    <div>\n",
       "        <a href=\"https://bokeh.org\" target=\"_blank\" class=\"bk-notebook-logo\"></a>\n",
       "        <span id=\"bb8c9f17-44ee-413c-a61b-dae254ceab5c\">Loading BokehJS ...</span>\n",
       "    </div>\n"
      ]
     },
     "metadata": {},
     "output_type": "display_data"
    },
    {
     "data": {
      "application/javascript": "'use strict';\n(function(root) {\n  function now() {\n    return new Date();\n  }\n\n  const force = true;\n\n  if (typeof root._bokeh_onload_callbacks === \"undefined\" || force === true) {\n    root._bokeh_onload_callbacks = [];\n    root._bokeh_is_loading = undefined;\n  }\n\nconst JS_MIME_TYPE = 'application/javascript';\n  const HTML_MIME_TYPE = 'text/html';\n  const EXEC_MIME_TYPE = 'application/vnd.bokehjs_exec.v0+json';\n  const CLASS_NAME = 'output_bokeh rendered_html';\n\n  /**\n   * Render data to the DOM node\n   */\n  function render(props, node) {\n    const script = document.createElement(\"script\");\n    node.appendChild(script);\n  }\n\n  /**\n   * Handle when an output is cleared or removed\n   */\n  function handleClearOutput(event, handle) {\n    function drop(id) {\n      const view = Bokeh.index.get_by_id(id)\n      if (view != null) {\n        view.model.document.clear()\n        Bokeh.index.delete(view)\n      }\n    }\n\n    const cell = handle.cell;\n\n    const id = cell.output_area._bokeh_element_id;\n    const server_id = cell.output_area._bokeh_server_id;\n\n    // Clean up Bokeh references\n    if (id != null) {\n      drop(id)\n    }\n\n    if (server_id !== undefined) {\n      // Clean up Bokeh references\n      const cmd_clean = \"from bokeh.io.state import curstate; print(curstate().uuid_to_server['\" + server_id + \"'].get_sessions()[0].document.roots[0]._id)\";\n      cell.notebook.kernel.execute(cmd_clean, {\n        iopub: {\n          output: function(msg) {\n            const id = msg.content.text.trim()\n            drop(id)\n          }\n        }\n      });\n      // Destroy server and session\n      const cmd_destroy = \"import bokeh.io.notebook as ion; ion.destroy_server('\" + server_id + \"')\";\n      cell.notebook.kernel.execute(cmd_destroy);\n    }\n  }\n\n  /**\n   * Handle when a new output is added\n   */\n  function handleAddOutput(event, handle) {\n    const output_area = handle.output_area;\n    const output = handle.output;\n\n    // limit handleAddOutput to display_data with EXEC_MIME_TYPE content only\n    if ((output.output_type != \"display_data\") || (!Object.prototype.hasOwnProperty.call(output.data, EXEC_MIME_TYPE))) {\n      return\n    }\n\n    const toinsert = output_area.element.find(\".\" + CLASS_NAME.split(' ')[0]);\n\n    if (output.metadata[EXEC_MIME_TYPE][\"id\"] !== undefined) {\n      toinsert[toinsert.length - 1].firstChild.textContent = output.data[JS_MIME_TYPE];\n      // store reference to embed id on output_area\n      output_area._bokeh_element_id = output.metadata[EXEC_MIME_TYPE][\"id\"];\n    }\n    if (output.metadata[EXEC_MIME_TYPE][\"server_id\"] !== undefined) {\n      const bk_div = document.createElement(\"div\");\n      bk_div.innerHTML = output.data[HTML_MIME_TYPE];\n      const script_attrs = bk_div.children[0].attributes;\n      for (let i = 0; i < script_attrs.length; i++) {\n        toinsert[toinsert.length - 1].firstChild.setAttribute(script_attrs[i].name, script_attrs[i].value);\n        toinsert[toinsert.length - 1].firstChild.textContent = bk_div.children[0].textContent\n      }\n      // store reference to server id on output_area\n      output_area._bokeh_server_id = output.metadata[EXEC_MIME_TYPE][\"server_id\"];\n    }\n  }\n\n  function register_renderer(events, OutputArea) {\n\n    function append_mime(data, metadata, element) {\n      // create a DOM node to render to\n      const toinsert = this.create_output_subarea(\n        metadata,\n        CLASS_NAME,\n        EXEC_MIME_TYPE\n      );\n      this.keyboard_manager.register_events(toinsert);\n      // Render to node\n      const props = {data: data, metadata: metadata[EXEC_MIME_TYPE]};\n      render(props, toinsert[toinsert.length - 1]);\n      element.append(toinsert);\n      return toinsert\n    }\n\n    /* Handle when an output is cleared or removed */\n    events.on('clear_output.CodeCell', handleClearOutput);\n    events.on('delete.Cell', handleClearOutput);\n\n    /* Handle when a new output is added */\n    events.on('output_added.OutputArea', handleAddOutput);\n\n    /**\n     * Register the mime type and append_mime function with output_area\n     */\n    OutputArea.prototype.register_mime_type(EXEC_MIME_TYPE, append_mime, {\n      /* Is output safe? */\n      safe: true,\n      /* Index of renderer in `output_area.display_order` */\n      index: 0\n    });\n  }\n\n  // register the mime type if in Jupyter Notebook environment and previously unregistered\n  if (root.Jupyter !== undefined) {\n    const events = require('base/js/events');\n    const OutputArea = require('notebook/js/outputarea').OutputArea;\n\n    if (OutputArea.prototype.mime_types().indexOf(EXEC_MIME_TYPE) == -1) {\n      register_renderer(events, OutputArea);\n    }\n  }\n  if (typeof (root._bokeh_timeout) === \"undefined\" || force === true) {\n    root._bokeh_timeout = Date.now() + 5000;\n    root._bokeh_failed_load = false;\n  }\n\n  const NB_LOAD_WARNING = {'data': {'text/html':\n     \"<div style='background-color: #fdd'>\\n\"+\n     \"<p>\\n\"+\n     \"BokehJS does not appear to have successfully loaded. If loading BokehJS from CDN, this \\n\"+\n     \"may be due to a slow or bad network connection. Possible fixes:\\n\"+\n     \"</p>\\n\"+\n     \"<ul>\\n\"+\n     \"<li>re-rerun `output_notebook()` to attempt to load from CDN again, or</li>\\n\"+\n     \"<li>use INLINE resources instead, as so:</li>\\n\"+\n     \"</ul>\\n\"+\n     \"<code>\\n\"+\n     \"from bokeh.resources import INLINE\\n\"+\n     \"output_notebook(resources=INLINE)\\n\"+\n     \"</code>\\n\"+\n     \"</div>\"}};\n\n  function display_loaded(error = null) {\n    const el = document.getElementById(\"bb8c9f17-44ee-413c-a61b-dae254ceab5c\");\n    if (el != null) {\n      const html = (() => {\n        if (typeof root.Bokeh === \"undefined\") {\n          if (error == null) {\n            return \"BokehJS is loading ...\";\n          } else {\n            return \"BokehJS failed to load.\";\n          }\n        } else {\n          const prefix = `BokehJS ${root.Bokeh.version}`;\n          if (error == null) {\n            return `${prefix} successfully loaded.`;\n          } else {\n            return `${prefix} <b>encountered errors</b> while loading and may not function as expected.`;\n          }\n        }\n      })();\n      el.innerHTML = html;\n\n      if (error != null) {\n        const wrapper = document.createElement(\"div\");\n        wrapper.style.overflow = \"auto\";\n        wrapper.style.height = \"5em\";\n        wrapper.style.resize = \"vertical\";\n        const content = document.createElement(\"div\");\n        content.style.fontFamily = \"monospace\";\n        content.style.whiteSpace = \"pre-wrap\";\n        content.style.backgroundColor = \"rgb(255, 221, 221)\";\n        content.textContent = error.stack ?? error.toString();\n        wrapper.append(content);\n        el.append(wrapper);\n      }\n    } else if (Date.now() < root._bokeh_timeout) {\n      setTimeout(() => display_loaded(error), 100);\n    }\n  }\n\n  function run_callbacks() {\n    try {\n      root._bokeh_onload_callbacks.forEach(function(callback) {\n        if (callback != null)\n          callback();\n      });\n    } finally {\n      delete root._bokeh_onload_callbacks\n    }\n    console.debug(\"Bokeh: all callbacks have finished\");\n  }\n\n  function load_libs(css_urls, js_urls, callback) {\n    if (css_urls == null) css_urls = [];\n    if (js_urls == null) js_urls = [];\n\n    root._bokeh_onload_callbacks.push(callback);\n    if (root._bokeh_is_loading > 0) {\n      console.debug(\"Bokeh: BokehJS is being loaded, scheduling callback at\", now());\n      return null;\n    }\n    if (js_urls == null || js_urls.length === 0) {\n      run_callbacks();\n      return null;\n    }\n    console.debug(\"Bokeh: BokehJS not loaded, scheduling load and callback at\", now());\n    root._bokeh_is_loading = css_urls.length + js_urls.length;\n\n    function on_load() {\n      root._bokeh_is_loading--;\n      if (root._bokeh_is_loading === 0) {\n        console.debug(\"Bokeh: all BokehJS libraries/stylesheets loaded\");\n        run_callbacks()\n      }\n    }\n\n    function on_error(url) {\n      console.error(\"failed to load \" + url);\n    }\n\n    for (let i = 0; i < css_urls.length; i++) {\n      const url = css_urls[i];\n      const element = document.createElement(\"link\");\n      element.onload = on_load;\n      element.onerror = on_error.bind(null, url);\n      element.rel = \"stylesheet\";\n      element.type = \"text/css\";\n      element.href = url;\n      console.debug(\"Bokeh: injecting link tag for BokehJS stylesheet: \", url);\n      document.body.appendChild(element);\n    }\n\n    for (let i = 0; i < js_urls.length; i++) {\n      const url = js_urls[i];\n      const element = document.createElement('script');\n      element.onload = on_load;\n      element.onerror = on_error.bind(null, url);\n      element.async = false;\n      element.src = url;\n      console.debug(\"Bokeh: injecting script tag for BokehJS library: \", url);\n      document.head.appendChild(element);\n    }\n  };\n\n  function inject_raw_css(css) {\n    const element = document.createElement(\"style\");\n    element.appendChild(document.createTextNode(css));\n    document.body.appendChild(element);\n  }\n\n  const js_urls = [\"https://cdn.bokeh.org/bokeh/release/bokeh-3.4.1.min.js\", \"https://cdn.bokeh.org/bokeh/release/bokeh-gl-3.4.1.min.js\", \"https://cdn.bokeh.org/bokeh/release/bokeh-widgets-3.4.1.min.js\", \"https://cdn.bokeh.org/bokeh/release/bokeh-tables-3.4.1.min.js\", \"https://cdn.bokeh.org/bokeh/release/bokeh-mathjax-3.4.1.min.js\"];\n  const css_urls = [];\n\n  const inline_js = [    function(Bokeh) {\n      Bokeh.set_log_level(\"info\");\n    },\nfunction(Bokeh) {\n    }\n  ];\n\n  function run_inline_js() {\n    if (root.Bokeh !== undefined || force === true) {\n      try {\n            for (let i = 0; i < inline_js.length; i++) {\n      inline_js[i].call(root, root.Bokeh);\n    }\n\n      } catch (error) {display_loaded(error);throw error;\n      }if (force === true) {\n        display_loaded();\n      }} else if (Date.now() < root._bokeh_timeout) {\n      setTimeout(run_inline_js, 100);\n    } else if (!root._bokeh_failed_load) {\n      console.log(\"Bokeh: BokehJS failed to load within specified timeout.\");\n      root._bokeh_failed_load = true;\n    } else if (force !== true) {\n      const cell = $(document.getElementById(\"bb8c9f17-44ee-413c-a61b-dae254ceab5c\")).parents('.cell').data().cell;\n      cell.output_area.append_execute_result(NB_LOAD_WARNING)\n    }\n  }\n\n  if (root._bokeh_is_loading === 0) {\n    console.debug(\"Bokeh: BokehJS loaded, going straight to plotting\");\n    run_inline_js();\n  } else {\n    load_libs(css_urls, js_urls, function() {\n      console.debug(\"Bokeh: BokehJS plotting callback run at\", now());\n      run_inline_js();\n    });\n  }\n}(window));",
      "application/vnd.bokehjs_load.v0+json": ""
     },
     "metadata": {},
     "output_type": "display_data"
    },
    {
     "data": {
      "text/html": [
       "\n",
       "  <div id=\"fa4c32b6-4689-43a4-8701-dcaacb88b37f\" data-root-id=\"p1384\" style=\"display: contents;\"></div>\n"
      ]
     },
     "metadata": {},
     "output_type": "display_data"
    },
    {
     "data": {
      "application/javascript": "(function(root) {\n  function embed_document(root) {\n  const docs_json = {\"f390ad56-b593-47bd-82c1-8b9b6916f085\":{\"version\":\"3.4.1\",\"title\":\"Bokeh Application\",\"roots\":[{\"type\":\"object\",\"name\":\"Figure\",\"id\":\"p1384\",\"attributes\":{\"x_range\":{\"type\":\"object\",\"name\":\"DataRange1d\",\"id\":\"p1385\"},\"y_range\":{\"type\":\"object\",\"name\":\"DataRange1d\",\"id\":\"p1386\"},\"x_scale\":{\"type\":\"object\",\"name\":\"LinearScale\",\"id\":\"p1394\"},\"y_scale\":{\"type\":\"object\",\"name\":\"LinearScale\",\"id\":\"p1395\"},\"title\":{\"type\":\"object\",\"name\":\"Title\",\"id\":\"p1387\",\"attributes\":{\"text\":\"Distance to nearest primary road vs Air Pollution on weekdays\"}},\"renderers\":[{\"type\":\"object\",\"name\":\"GlyphRenderer\",\"id\":\"p1417\",\"attributes\":{\"data_source\":{\"type\":\"object\",\"name\":\"ColumnDataSource\",\"id\":\"p1381\",\"attributes\":{\"selected\":{\"type\":\"object\",\"name\":\"Selection\",\"id\":\"p1382\",\"attributes\":{\"indices\":[],\"line_indices\":[]}},\"selection_policy\":{\"type\":\"object\",\"name\":\"UnionRenderers\",\"id\":\"p1383\"},\"data\":{\"type\":\"map\",\"entries\":[[\"index\",{\"type\":\"ndarray\",\"array\":{\"type\":\"bytes\",\"data\":\"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\"},\"shape\":[546],\"dtype\":\"int32\",\"order\":\"little\"}],[\"distance_to_nearest_road\",{\"type\":\"ndarray\",\"array\":{\"type\":\"bytes\",\"data\":\"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\"},\"shape\":[546],\"dtype\":\"float64\",\"order\":\"little\"}],[\"NO2\",{\"type\":\"ndarray\",\"array\":{\"type\":\"bytes\",\"data\":\"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\"},\"shape\":[546],\"dtype\":\"float64\",\"order\":\"little\"}]]}}},\"view\":{\"type\":\"object\",\"name\":\"CDSView\",\"id\":\"p1418\",\"attributes\":{\"filter\":{\"type\":\"object\",\"name\":\"AllIndices\",\"id\":\"p1419\"}}},\"glyph\":{\"type\":\"object\",\"name\":\"Scatter\",\"id\":\"p1414\",\"attributes\":{\"x\":{\"type\":\"field\",\"field\":\"distance_to_nearest_road\"},\"y\":{\"type\":\"field\",\"field\":\"NO2\"},\"size\":{\"type\":\"value\",\"value\":2},\"line_color\":{\"type\":\"value\",\"value\":\"blue\"},\"fill_color\":{\"type\":\"value\",\"value\":\"blue\"},\"fill_alpha\":{\"type\":\"value\",\"value\":0.6},\"hatch_color\":{\"type\":\"value\",\"value\":\"blue\"}}},\"nonselection_glyph\":{\"type\":\"object\",\"name\":\"Scatter\",\"id\":\"p1415\",\"attributes\":{\"x\":{\"type\":\"field\",\"field\":\"distance_to_nearest_road\"},\"y\":{\"type\":\"field\",\"field\":\"NO2\"},\"size\":{\"type\":\"value\",\"value\":2},\"line_color\":{\"type\":\"value\",\"value\":\"blue\"},\"line_alpha\":{\"type\":\"value\",\"value\":0.1},\"fill_color\":{\"type\":\"value\",\"value\":\"blue\"},\"fill_alpha\":{\"type\":\"value\",\"value\":0.1},\"hatch_color\":{\"type\":\"value\",\"value\":\"blue\"},\"hatch_alpha\":{\"type\":\"value\",\"value\":0.1}}},\"muted_glyph\":{\"type\":\"object\",\"name\":\"Scatter\",\"id\":\"p1416\",\"attributes\":{\"x\":{\"type\":\"field\",\"field\":\"distance_to_nearest_road\"},\"y\":{\"type\":\"field\",\"field\":\"NO2\"},\"size\":{\"type\":\"value\",\"value\":2},\"line_color\":{\"type\":\"value\",\"value\":\"blue\"},\"line_alpha\":{\"type\":\"value\",\"value\":0.2},\"fill_color\":{\"type\":\"value\",\"value\":\"blue\"},\"fill_alpha\":{\"type\":\"value\",\"value\":0.2},\"hatch_color\":{\"type\":\"value\",\"value\":\"blue\"},\"hatch_alpha\":{\"type\":\"value\",\"value\":0.2}}}}}],\"toolbar\":{\"type\":\"object\",\"name\":\"Toolbar\",\"id\":\"p1393\",\"attributes\":{\"tools\":[{\"type\":\"object\",\"name\":\"PanTool\",\"id\":\"p1406\"},{\"type\":\"object\",\"name\":\"ResetTool\",\"id\":\"p1407\"},{\"type\":\"object\",\"name\":\"ZoomInTool\",\"id\":\"p1408\",\"attributes\":{\"renderers\":\"auto\"}},{\"type\":\"object\",\"name\":\"ZoomOutTool\",\"id\":\"p1409\",\"attributes\":{\"renderers\":\"auto\"}},{\"type\":\"object\",\"name\":\"SaveTool\",\"id\":\"p1410\"}]}},\"left\":[{\"type\":\"object\",\"name\":\"LinearAxis\",\"id\":\"p1401\",\"attributes\":{\"ticker\":{\"type\":\"object\",\"name\":\"BasicTicker\",\"id\":\"p1402\",\"attributes\":{\"mantissas\":[1,2,5]}},\"formatter\":{\"type\":\"object\",\"name\":\"BasicTickFormatter\",\"id\":\"p1403\"},\"axis_label\":\"NO2\",\"major_label_policy\":{\"type\":\"object\",\"name\":\"AllLabels\",\"id\":\"p1404\"}}}],\"below\":[{\"type\":\"object\",\"name\":\"LinearAxis\",\"id\":\"p1396\",\"attributes\":{\"ticker\":{\"type\":\"object\",\"name\":\"BasicTicker\",\"id\":\"p1397\",\"attributes\":{\"mantissas\":[1,2,5]}},\"formatter\":{\"type\":\"object\",\"name\":\"BasicTickFormatter\",\"id\":\"p1398\"},\"axis_label\":\"Distance to nearest primary road (in m)\",\"major_label_policy\":{\"type\":\"object\",\"name\":\"AllLabels\",\"id\":\"p1399\"}}}],\"center\":[{\"type\":\"object\",\"name\":\"Grid\",\"id\":\"p1400\",\"attributes\":{\"axis\":{\"id\":\"p1396\"}}},{\"type\":\"object\",\"name\":\"Grid\",\"id\":\"p1405\",\"attributes\":{\"dimension\":1,\"axis\":{\"id\":\"p1401\"}}}]}}]}};\n  const render_items = [{\"docid\":\"f390ad56-b593-47bd-82c1-8b9b6916f085\",\"roots\":{\"p1384\":\"fa4c32b6-4689-43a4-8701-dcaacb88b37f\"},\"root_ids\":[\"p1384\"]}];\n  void root.Bokeh.embed.embed_items_notebook(docs_json, render_items);\n  }\n  if (root.Bokeh !== undefined) {\n    embed_document(root);\n  } else {\n    let attempts = 0;\n    const timer = setInterval(function(root) {\n      if (root.Bokeh !== undefined) {\n        clearInterval(timer);\n        embed_document(root);\n      } else {\n        attempts++;\n        if (attempts > 100) {\n          clearInterval(timer);\n          console.log(\"Bokeh: ERROR: Unable to run BokehJS code because BokehJS library is missing\");\n        }\n      }\n    }, 10, root)\n  }\n})(window);",
      "application/vnd.bokehjs_exec.v0+json": ""
     },
     "metadata": {
      "application/vnd.bokehjs_exec.v0+json": {
       "id": "p1384"
      }
     },
     "output_type": "display_data"
    }
   ],
   "source": [
    "from bokeh.models import ColumnDataSource\n",
    "from bokeh.plotting import figure, show\n",
    "output_notebook()\n",
    "\n",
    "source = ColumnDataSource(weekdays[['distance_to_nearest_road', 'NO2']])\n",
    "p = figure(title=\"Distance to nearest primary road vs Air Pollution on weekdays\", \n",
    "           x_axis_label=\"Distance to nearest primary road (in m)\", y_axis_label=\"NO2\", \n",
    "           tools=\"pan,reset,zoom_in,zoom_out,save\")\n",
    "\n",
    "# Add a scatter plot to the figure\n",
    "p.scatter('distance_to_nearest_road', 'NO2', size=2, color='blue', source=source, fill_alpha=0.6)\n",
    "\n",
    "# Display the plot\n",
    "show(p)"
   ]
  },
  {
   "cell_type": "code",
   "execution_count": 163,
   "metadata": {
    "tags": [
     "remove-input"
    ]
   },
   "outputs": [
    {
     "data": {
      "text/html": [
       "\n",
       "            <style>\n",
       "                .geemap-dark {\n",
       "                    --jp-widgets-color: white;\n",
       "                    --jp-widgets-label-color: white;\n",
       "                    --jp-ui-font-color1: white;\n",
       "                    --jp-layout-color2: #454545;\n",
       "                    background-color: #383838;\n",
       "                }\n",
       "\n",
       "                .geemap-dark .jupyter-button {\n",
       "                    --jp-layout-color3: #383838;\n",
       "                }\n",
       "\n",
       "                .geemap-colab {\n",
       "                    background-color: var(--colab-primary-surface-color, white);\n",
       "                }\n",
       "\n",
       "                .geemap-colab .jupyter-button {\n",
       "                    --jp-layout-color3: var(--colab-primary-surface-color, white);\n",
       "                }\n",
       "            </style>\n",
       "            "
      ],
      "text/plain": [
       "<IPython.core.display.HTML object>"
      ]
     },
     "metadata": {},
     "output_type": "display_data"
    },
    {
     "data": {
      "text/html": [
       "    <style>\n",
       "        .bk-notebook-logo {\n",
       "            display: block;\n",
       "            width: 20px;\n",
       "            height: 20px;\n",
       "            background-image: url(data:image/png;base64,iVBORw0KGgoAAAANSUhEUgAAABQAAAAUCAYAAACNiR0NAAAABHNCSVQICAgIfAhkiAAAAAlwSFlzAAALEgAACxIB0t1+/AAAABx0RVh0U29mdHdhcmUAQWRvYmUgRmlyZXdvcmtzIENTNui8sowAAAOkSURBVDiNjZRtaJVlGMd/1/08zzln5zjP1LWcU9N0NkN8m2CYjpgQYQXqSs0I84OLIC0hkEKoPtiH3gmKoiJDU7QpLgoLjLIQCpEsNJ1vqUOdO7ppbuec5+V+rj4ctwzd8IIbbi6u+8f1539dt3A78eXC7QizUF7gyV1fD1Yqg4JWz84yffhm0qkFqBogB9rM8tZdtwVsPUhWhGcFJngGeWrPzHm5oaMmkfEg1usvLFyc8jLRqDOMru7AyC8saQr7GG7f5fvDeH7Ej8CM66nIF+8yngt6HWaKh7k49Soy9nXurCi1o3qUbS3zWfrYeQDTB/Qj6kX6Ybhw4B+bOYoLKCC9H3Nu/leUTZ1JdRWkkn2ldcCamzrcf47KKXdAJllSlxAOkRgyHsGC/zRday5Qld9DyoM4/q/rUoy/CXh3jzOu3bHUVZeU+DEn8FInkPBFlu3+nW3Nw0mk6vCDiWg8CeJaxEwuHS3+z5RgY+YBR6V1Z1nxSOfoaPa4LASWxxdNp+VWTk7+4vzaou8v8PN+xo+KY2xsw6une2frhw05CTYOmQvsEhjhWjn0bmXPjpE1+kplmmkP3suftwTubK9Vq22qKmrBhpY4jvd5afdRA3wGjFAgcnTK2s4hY0/GPNIb0nErGMCRxWOOX64Z8RAC4oCXdklmEvcL8o0BfkNK4lUg9HTl+oPlQxdNo3Mg4Nv175e/1LDGzZen30MEjRUtmXSfiTVu1kK8W4txyV6BMKlbgk3lMwYCiusNy9fVfvvwMxv8Ynl6vxoByANLTWplvuj/nF9m2+PDtt1eiHPBr1oIfhCChQMBw6Aw0UulqTKZdfVvfG7VcfIqLG9bcldL/+pdWTLxLUy8Qq38heUIjh4XlzZxzQm19lLFlr8vdQ97rjZVOLf8nclzckbcD4wxXMidpX30sFd37Fv/GtwwhzhxGVAprjbg0gCAEeIgwCZyTV2Z1REEW8O4py0wsjeloKoMr6iCY6dP92H6Vw/oTyICIthibxjm/DfN9lVz8IqtqKYLUXfoKVMVQVVJOElGjrnnUt9T9wbgp8AyYKaGlqingHZU/uG2NTZSVqwHQTWkx9hxjkpWDaCg6Ckj5qebgBVbT3V3NNXMSiWSDdGV3hrtzla7J+duwPOToIg42ChPQOQjspnSlp1V+Gjdged7+8UN5CRAV7a5EdFNwCjEaBR27b3W890TE7g24NAP/mMDXRWrGoFPQI9ls/MWO2dWFAar/xcOIImbbpA3zgAAAABJRU5ErkJggg==);\n",
       "        }\n",
       "    </style>\n",
       "    <div>\n",
       "        <a href=\"https://bokeh.org\" target=\"_blank\" class=\"bk-notebook-logo\"></a>\n",
       "        <span id=\"a81d993b-cf29-4203-82bc-91581436ddf6\">Loading BokehJS ...</span>\n",
       "    </div>\n"
      ]
     },
     "metadata": {},
     "output_type": "display_data"
    },
    {
     "data": {
      "application/javascript": "'use strict';\n(function(root) {\n  function now() {\n    return new Date();\n  }\n\n  const force = true;\n\n  if (typeof root._bokeh_onload_callbacks === \"undefined\" || force === true) {\n    root._bokeh_onload_callbacks = [];\n    root._bokeh_is_loading = undefined;\n  }\n\nconst JS_MIME_TYPE = 'application/javascript';\n  const HTML_MIME_TYPE = 'text/html';\n  const EXEC_MIME_TYPE = 'application/vnd.bokehjs_exec.v0+json';\n  const CLASS_NAME = 'output_bokeh rendered_html';\n\n  /**\n   * Render data to the DOM node\n   */\n  function render(props, node) {\n    const script = document.createElement(\"script\");\n    node.appendChild(script);\n  }\n\n  /**\n   * Handle when an output is cleared or removed\n   */\n  function handleClearOutput(event, handle) {\n    function drop(id) {\n      const view = Bokeh.index.get_by_id(id)\n      if (view != null) {\n        view.model.document.clear()\n        Bokeh.index.delete(view)\n      }\n    }\n\n    const cell = handle.cell;\n\n    const id = cell.output_area._bokeh_element_id;\n    const server_id = cell.output_area._bokeh_server_id;\n\n    // Clean up Bokeh references\n    if (id != null) {\n      drop(id)\n    }\n\n    if (server_id !== undefined) {\n      // Clean up Bokeh references\n      const cmd_clean = \"from bokeh.io.state import curstate; print(curstate().uuid_to_server['\" + server_id + \"'].get_sessions()[0].document.roots[0]._id)\";\n      cell.notebook.kernel.execute(cmd_clean, {\n        iopub: {\n          output: function(msg) {\n            const id = msg.content.text.trim()\n            drop(id)\n          }\n        }\n      });\n      // Destroy server and session\n      const cmd_destroy = \"import bokeh.io.notebook as ion; ion.destroy_server('\" + server_id + \"')\";\n      cell.notebook.kernel.execute(cmd_destroy);\n    }\n  }\n\n  /**\n   * Handle when a new output is added\n   */\n  function handleAddOutput(event, handle) {\n    const output_area = handle.output_area;\n    const output = handle.output;\n\n    // limit handleAddOutput to display_data with EXEC_MIME_TYPE content only\n    if ((output.output_type != \"display_data\") || (!Object.prototype.hasOwnProperty.call(output.data, EXEC_MIME_TYPE))) {\n      return\n    }\n\n    const toinsert = output_area.element.find(\".\" + CLASS_NAME.split(' ')[0]);\n\n    if (output.metadata[EXEC_MIME_TYPE][\"id\"] !== undefined) {\n      toinsert[toinsert.length - 1].firstChild.textContent = output.data[JS_MIME_TYPE];\n      // store reference to embed id on output_area\n      output_area._bokeh_element_id = output.metadata[EXEC_MIME_TYPE][\"id\"];\n    }\n    if (output.metadata[EXEC_MIME_TYPE][\"server_id\"] !== undefined) {\n      const bk_div = document.createElement(\"div\");\n      bk_div.innerHTML = output.data[HTML_MIME_TYPE];\n      const script_attrs = bk_div.children[0].attributes;\n      for (let i = 0; i < script_attrs.length; i++) {\n        toinsert[toinsert.length - 1].firstChild.setAttribute(script_attrs[i].name, script_attrs[i].value);\n        toinsert[toinsert.length - 1].firstChild.textContent = bk_div.children[0].textContent\n      }\n      // store reference to server id on output_area\n      output_area._bokeh_server_id = output.metadata[EXEC_MIME_TYPE][\"server_id\"];\n    }\n  }\n\n  function register_renderer(events, OutputArea) {\n\n    function append_mime(data, metadata, element) {\n      // create a DOM node to render to\n      const toinsert = this.create_output_subarea(\n        metadata,\n        CLASS_NAME,\n        EXEC_MIME_TYPE\n      );\n      this.keyboard_manager.register_events(toinsert);\n      // Render to node\n      const props = {data: data, metadata: metadata[EXEC_MIME_TYPE]};\n      render(props, toinsert[toinsert.length - 1]);\n      element.append(toinsert);\n      return toinsert\n    }\n\n    /* Handle when an output is cleared or removed */\n    events.on('clear_output.CodeCell', handleClearOutput);\n    events.on('delete.Cell', handleClearOutput);\n\n    /* Handle when a new output is added */\n    events.on('output_added.OutputArea', handleAddOutput);\n\n    /**\n     * Register the mime type and append_mime function with output_area\n     */\n    OutputArea.prototype.register_mime_type(EXEC_MIME_TYPE, append_mime, {\n      /* Is output safe? */\n      safe: true,\n      /* Index of renderer in `output_area.display_order` */\n      index: 0\n    });\n  }\n\n  // register the mime type if in Jupyter Notebook environment and previously unregistered\n  if (root.Jupyter !== undefined) {\n    const events = require('base/js/events');\n    const OutputArea = require('notebook/js/outputarea').OutputArea;\n\n    if (OutputArea.prototype.mime_types().indexOf(EXEC_MIME_TYPE) == -1) {\n      register_renderer(events, OutputArea);\n    }\n  }\n  if (typeof (root._bokeh_timeout) === \"undefined\" || force === true) {\n    root._bokeh_timeout = Date.now() + 5000;\n    root._bokeh_failed_load = false;\n  }\n\n  const NB_LOAD_WARNING = {'data': {'text/html':\n     \"<div style='background-color: #fdd'>\\n\"+\n     \"<p>\\n\"+\n     \"BokehJS does not appear to have successfully loaded. If loading BokehJS from CDN, this \\n\"+\n     \"may be due to a slow or bad network connection. Possible fixes:\\n\"+\n     \"</p>\\n\"+\n     \"<ul>\\n\"+\n     \"<li>re-rerun `output_notebook()` to attempt to load from CDN again, or</li>\\n\"+\n     \"<li>use INLINE resources instead, as so:</li>\\n\"+\n     \"</ul>\\n\"+\n     \"<code>\\n\"+\n     \"from bokeh.resources import INLINE\\n\"+\n     \"output_notebook(resources=INLINE)\\n\"+\n     \"</code>\\n\"+\n     \"</div>\"}};\n\n  function display_loaded(error = null) {\n    const el = document.getElementById(\"a81d993b-cf29-4203-82bc-91581436ddf6\");\n    if (el != null) {\n      const html = (() => {\n        if (typeof root.Bokeh === \"undefined\") {\n          if (error == null) {\n            return \"BokehJS is loading ...\";\n          } else {\n            return \"BokehJS failed to load.\";\n          }\n        } else {\n          const prefix = `BokehJS ${root.Bokeh.version}`;\n          if (error == null) {\n            return `${prefix} successfully loaded.`;\n          } else {\n            return `${prefix} <b>encountered errors</b> while loading and may not function as expected.`;\n          }\n        }\n      })();\n      el.innerHTML = html;\n\n      if (error != null) {\n        const wrapper = document.createElement(\"div\");\n        wrapper.style.overflow = \"auto\";\n        wrapper.style.height = \"5em\";\n        wrapper.style.resize = \"vertical\";\n        const content = document.createElement(\"div\");\n        content.style.fontFamily = \"monospace\";\n        content.style.whiteSpace = \"pre-wrap\";\n        content.style.backgroundColor = \"rgb(255, 221, 221)\";\n        content.textContent = error.stack ?? error.toString();\n        wrapper.append(content);\n        el.append(wrapper);\n      }\n    } else if (Date.now() < root._bokeh_timeout) {\n      setTimeout(() => display_loaded(error), 100);\n    }\n  }\n\n  function run_callbacks() {\n    try {\n      root._bokeh_onload_callbacks.forEach(function(callback) {\n        if (callback != null)\n          callback();\n      });\n    } finally {\n      delete root._bokeh_onload_callbacks\n    }\n    console.debug(\"Bokeh: all callbacks have finished\");\n  }\n\n  function load_libs(css_urls, js_urls, callback) {\n    if (css_urls == null) css_urls = [];\n    if (js_urls == null) js_urls = [];\n\n    root._bokeh_onload_callbacks.push(callback);\n    if (root._bokeh_is_loading > 0) {\n      console.debug(\"Bokeh: BokehJS is being loaded, scheduling callback at\", now());\n      return null;\n    }\n    if (js_urls == null || js_urls.length === 0) {\n      run_callbacks();\n      return null;\n    }\n    console.debug(\"Bokeh: BokehJS not loaded, scheduling load and callback at\", now());\n    root._bokeh_is_loading = css_urls.length + js_urls.length;\n\n    function on_load() {\n      root._bokeh_is_loading--;\n      if (root._bokeh_is_loading === 0) {\n        console.debug(\"Bokeh: all BokehJS libraries/stylesheets loaded\");\n        run_callbacks()\n      }\n    }\n\n    function on_error(url) {\n      console.error(\"failed to load \" + url);\n    }\n\n    for (let i = 0; i < css_urls.length; i++) {\n      const url = css_urls[i];\n      const element = document.createElement(\"link\");\n      element.onload = on_load;\n      element.onerror = on_error.bind(null, url);\n      element.rel = \"stylesheet\";\n      element.type = \"text/css\";\n      element.href = url;\n      console.debug(\"Bokeh: injecting link tag for BokehJS stylesheet: \", url);\n      document.body.appendChild(element);\n    }\n\n    for (let i = 0; i < js_urls.length; i++) {\n      const url = js_urls[i];\n      const element = document.createElement('script');\n      element.onload = on_load;\n      element.onerror = on_error.bind(null, url);\n      element.async = false;\n      element.src = url;\n      console.debug(\"Bokeh: injecting script tag for BokehJS library: \", url);\n      document.head.appendChild(element);\n    }\n  };\n\n  function inject_raw_css(css) {\n    const element = document.createElement(\"style\");\n    element.appendChild(document.createTextNode(css));\n    document.body.appendChild(element);\n  }\n\n  const js_urls = [\"https://cdn.bokeh.org/bokeh/release/bokeh-3.4.1.min.js\", \"https://cdn.bokeh.org/bokeh/release/bokeh-gl-3.4.1.min.js\", \"https://cdn.bokeh.org/bokeh/release/bokeh-widgets-3.4.1.min.js\", \"https://cdn.bokeh.org/bokeh/release/bokeh-tables-3.4.1.min.js\", \"https://cdn.bokeh.org/bokeh/release/bokeh-mathjax-3.4.1.min.js\"];\n  const css_urls = [];\n\n  const inline_js = [    function(Bokeh) {\n      Bokeh.set_log_level(\"info\");\n    },\nfunction(Bokeh) {\n    }\n  ];\n\n  function run_inline_js() {\n    if (root.Bokeh !== undefined || force === true) {\n      try {\n            for (let i = 0; i < inline_js.length; i++) {\n      inline_js[i].call(root, root.Bokeh);\n    }\n\n      } catch (error) {display_loaded(error);throw error;\n      }if (force === true) {\n        display_loaded();\n      }} else if (Date.now() < root._bokeh_timeout) {\n      setTimeout(run_inline_js, 100);\n    } else if (!root._bokeh_failed_load) {\n      console.log(\"Bokeh: BokehJS failed to load within specified timeout.\");\n      root._bokeh_failed_load = true;\n    } else if (force !== true) {\n      const cell = $(document.getElementById(\"a81d993b-cf29-4203-82bc-91581436ddf6\")).parents('.cell').data().cell;\n      cell.output_area.append_execute_result(NB_LOAD_WARNING)\n    }\n  }\n\n  if (root._bokeh_is_loading === 0) {\n    console.debug(\"Bokeh: BokehJS loaded, going straight to plotting\");\n    run_inline_js();\n  } else {\n    load_libs(css_urls, js_urls, function() {\n      console.debug(\"Bokeh: BokehJS plotting callback run at\", now());\n      run_inline_js();\n    });\n  }\n}(window));",
      "application/vnd.bokehjs_load.v0+json": ""
     },
     "metadata": {},
     "output_type": "display_data"
    },
    {
     "data": {
      "text/html": [
       "\n",
       "  <div id=\"ab6b8417-7cd0-41cd-8f6d-95c5427d0ea0\" data-root-id=\"p1426\" style=\"display: contents;\"></div>\n"
      ]
     },
     "metadata": {},
     "output_type": "display_data"
    },
    {
     "data": {
      "application/javascript": "(function(root) {\n  function embed_document(root) {\n  const docs_json = {\"2727ce75-ccaa-495e-9948-dc4b5e33acc1\":{\"version\":\"3.4.1\",\"title\":\"Bokeh Application\",\"roots\":[{\"type\":\"object\",\"name\":\"Figure\",\"id\":\"p1426\",\"attributes\":{\"x_range\":{\"type\":\"object\",\"name\":\"DataRange1d\",\"id\":\"p1427\"},\"y_range\":{\"type\":\"object\",\"name\":\"DataRange1d\",\"id\":\"p1428\"},\"x_scale\":{\"type\":\"object\",\"name\":\"LinearScale\",\"id\":\"p1436\"},\"y_scale\":{\"type\":\"object\",\"name\":\"LinearScale\",\"id\":\"p1437\"},\"title\":{\"type\":\"object\",\"name\":\"Title\",\"id\":\"p1429\",\"attributes\":{\"text\":\"Distance to nearest primary road vs Air Pollution on weekends\"}},\"renderers\":[{\"type\":\"object\",\"name\":\"GlyphRenderer\",\"id\":\"p1459\",\"attributes\":{\"data_source\":{\"type\":\"object\",\"name\":\"ColumnDataSource\",\"id\":\"p1423\",\"attributes\":{\"selected\":{\"type\":\"object\",\"name\":\"Selection\",\"id\":\"p1424\",\"attributes\":{\"indices\":[],\"line_indices\":[]}},\"selection_policy\":{\"type\":\"object\",\"name\":\"UnionRenderers\",\"id\":\"p1425\"},\"data\":{\"type\":\"map\",\"entries\":[[\"index\",{\"type\":\"ndarray\",\"array\":{\"type\":\"bytes\",\"data\":\"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\"},\"shape\":[546],\"dtype\":\"int32\",\"order\":\"little\"}],[\"distance_to_nearest_road\",{\"type\":\"ndarray\",\"array\":{\"type\":\"bytes\",\"data\":\"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\"},\"shape\":[546],\"dtype\":\"float64\",\"order\":\"little\"}],[\"NO2\",{\"type\":\"ndarray\",\"array\":{\"type\":\"bytes\",\"data\":\"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\"},\"shape\":[546],\"dtype\":\"float64\",\"order\":\"little\"}]]}}},\"view\":{\"type\":\"object\",\"name\":\"CDSView\",\"id\":\"p1460\",\"attributes\":{\"filter\":{\"type\":\"object\",\"name\":\"AllIndices\",\"id\":\"p1461\"}}},\"glyph\":{\"type\":\"object\",\"name\":\"Scatter\",\"id\":\"p1456\",\"attributes\":{\"x\":{\"type\":\"field\",\"field\":\"distance_to_nearest_road\"},\"y\":{\"type\":\"field\",\"field\":\"NO2\"},\"size\":{\"type\":\"value\",\"value\":2},\"line_color\":{\"type\":\"value\",\"value\":\"blue\"},\"fill_color\":{\"type\":\"value\",\"value\":\"blue\"},\"fill_alpha\":{\"type\":\"value\",\"value\":0.6},\"hatch_color\":{\"type\":\"value\",\"value\":\"blue\"}}},\"nonselection_glyph\":{\"type\":\"object\",\"name\":\"Scatter\",\"id\":\"p1457\",\"attributes\":{\"x\":{\"type\":\"field\",\"field\":\"distance_to_nearest_road\"},\"y\":{\"type\":\"field\",\"field\":\"NO2\"},\"size\":{\"type\":\"value\",\"value\":2},\"line_color\":{\"type\":\"value\",\"value\":\"blue\"},\"line_alpha\":{\"type\":\"value\",\"value\":0.1},\"fill_color\":{\"type\":\"value\",\"value\":\"blue\"},\"fill_alpha\":{\"type\":\"value\",\"value\":0.1},\"hatch_color\":{\"type\":\"value\",\"value\":\"blue\"},\"hatch_alpha\":{\"type\":\"value\",\"value\":0.1}}},\"muted_glyph\":{\"type\":\"object\",\"name\":\"Scatter\",\"id\":\"p1458\",\"attributes\":{\"x\":{\"type\":\"field\",\"field\":\"distance_to_nearest_road\"},\"y\":{\"type\":\"field\",\"field\":\"NO2\"},\"size\":{\"type\":\"value\",\"value\":2},\"line_color\":{\"type\":\"value\",\"value\":\"blue\"},\"line_alpha\":{\"type\":\"value\",\"value\":0.2},\"fill_color\":{\"type\":\"value\",\"value\":\"blue\"},\"fill_alpha\":{\"type\":\"value\",\"value\":0.2},\"hatch_color\":{\"type\":\"value\",\"value\":\"blue\"},\"hatch_alpha\":{\"type\":\"value\",\"value\":0.2}}}}}],\"toolbar\":{\"type\":\"object\",\"name\":\"Toolbar\",\"id\":\"p1435\",\"attributes\":{\"tools\":[{\"type\":\"object\",\"name\":\"PanTool\",\"id\":\"p1448\"},{\"type\":\"object\",\"name\":\"ResetTool\",\"id\":\"p1449\"},{\"type\":\"object\",\"name\":\"ZoomInTool\",\"id\":\"p1450\",\"attributes\":{\"renderers\":\"auto\"}},{\"type\":\"object\",\"name\":\"ZoomOutTool\",\"id\":\"p1451\",\"attributes\":{\"renderers\":\"auto\"}},{\"type\":\"object\",\"name\":\"SaveTool\",\"id\":\"p1452\"}]}},\"left\":[{\"type\":\"object\",\"name\":\"LinearAxis\",\"id\":\"p1443\",\"attributes\":{\"ticker\":{\"type\":\"object\",\"name\":\"BasicTicker\",\"id\":\"p1444\",\"attributes\":{\"mantissas\":[1,2,5]}},\"formatter\":{\"type\":\"object\",\"name\":\"BasicTickFormatter\",\"id\":\"p1445\"},\"axis_label\":\"NO2\",\"major_label_policy\":{\"type\":\"object\",\"name\":\"AllLabels\",\"id\":\"p1446\"}}}],\"below\":[{\"type\":\"object\",\"name\":\"LinearAxis\",\"id\":\"p1438\",\"attributes\":{\"ticker\":{\"type\":\"object\",\"name\":\"BasicTicker\",\"id\":\"p1439\",\"attributes\":{\"mantissas\":[1,2,5]}},\"formatter\":{\"type\":\"object\",\"name\":\"BasicTickFormatter\",\"id\":\"p1440\"},\"axis_label\":\"Distance to nearest primary road (in m)\",\"major_label_policy\":{\"type\":\"object\",\"name\":\"AllLabels\",\"id\":\"p1441\"}}}],\"center\":[{\"type\":\"object\",\"name\":\"Grid\",\"id\":\"p1442\",\"attributes\":{\"axis\":{\"id\":\"p1438\"}}},{\"type\":\"object\",\"name\":\"Grid\",\"id\":\"p1447\",\"attributes\":{\"dimension\":1,\"axis\":{\"id\":\"p1443\"}}}]}}]}};\n  const render_items = [{\"docid\":\"2727ce75-ccaa-495e-9948-dc4b5e33acc1\",\"roots\":{\"p1426\":\"ab6b8417-7cd0-41cd-8f6d-95c5427d0ea0\"},\"root_ids\":[\"p1426\"]}];\n  void root.Bokeh.embed.embed_items_notebook(docs_json, render_items);\n  }\n  if (root.Bokeh !== undefined) {\n    embed_document(root);\n  } else {\n    let attempts = 0;\n    const timer = setInterval(function(root) {\n      if (root.Bokeh !== undefined) {\n        clearInterval(timer);\n        embed_document(root);\n      } else {\n        attempts++;\n        if (attempts > 100) {\n          clearInterval(timer);\n          console.log(\"Bokeh: ERROR: Unable to run BokehJS code because BokehJS library is missing\");\n        }\n      }\n    }, 10, root)\n  }\n})(window);",
      "application/vnd.bokehjs_exec.v0+json": ""
     },
     "metadata": {
      "application/vnd.bokehjs_exec.v0+json": {
       "id": "p1426"
      }
     },
     "output_type": "display_data"
    }
   ],
   "source": [
    "from bokeh.models import ColumnDataSource\n",
    "from bokeh.plotting import figure, show\n",
    "output_notebook()\n",
    "\n",
    "source = ColumnDataSource(weekends[['distance_to_nearest_road', 'NO2']])\n",
    "p = figure(title=\"Distance to nearest primary road vs Air Pollution on weekends\", \n",
    "           x_axis_label=\"Distance to nearest primary road (in m)\", y_axis_label=\"NO2\", \n",
    "           tools=\"pan,reset,zoom_in,zoom_out,save\")\n",
    "\n",
    "# Add a scatter plot to the figure\n",
    "p.scatter('distance_to_nearest_road', 'NO2', size=2, color='blue', source=source, fill_alpha=0.6)\n",
    "\n",
    "# Display the plot\n",
    "show(p)"
   ]
  }
 ],
 "metadata": {
  "kernelspec": {
   "display_name": "data-goods",
   "language": "python",
   "name": "python3"
  },
  "language_info": {
   "codemirror_mode": {
    "name": "ipython",
    "version": 3
   },
   "file_extension": ".py",
   "mimetype": "text/x-python",
   "name": "python",
   "nbconvert_exporter": "python",
   "pygments_lexer": "ipython3",
   "version": "3.11.9"
  }
 },
 "nbformat": 4,
 "nbformat_minor": 2
}
